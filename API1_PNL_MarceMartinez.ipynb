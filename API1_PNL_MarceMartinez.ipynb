{
 "cells": [
  {
   "cell_type": "code",
   "execution_count": null,
   "id": "d57cc415",
   "metadata": {},
   "outputs": [],
   "source": [
    "ACTIVIDAD PRACTICO INTEGRADORA\n",
    "Procesamiento Natural del Lenguaje (NPL)\n",
    "Marcela Martinez Galvan.\n"
   ]
  },
  {
   "cell_type": "markdown",
   "id": "f19f8e7e",
   "metadata": {},
   "source": [
    "1. ¿Qué tipo de aplicación es un análisis de sentimientos?\n",
    "El análisis de sentimientos es una aplicación de procesamiento de lenguaje natural (PNL) \n",
    "que utiliza algoritmos para interpretar textos y determinar su tono emocional como positivo, negativo o neutral. \n",
    "Es ampliamente utilizado en diversas industrias para analizar comentarios de redes sociales, reseñas o encuestas,\n",
    "permitiendo tomar decisiones estratégicas basadas en opiniones colectivas.\n"
   ]
  },
  {
   "cell_type": "markdown",
   "id": "38a1939d",
   "metadata": {},
   "source": [
    "2. ¿Qué tipo de procesamiento es necesario realizar primero?\n",
    "El procesamiento inicial consiste en transformar texto no estructurado en datos estructurados. Esto incluye:\n",
    "* Limpieza y normalización: Eliminar ruido (HTML, espacios innecesarios, etc.).\n",
    "* Segmentación/tokenización: Dividir texto en unidades significativas como palabras o frases.\n",
    "* Reducción (stemming/lematización): Simplificar palabras a su forma raíz o lema.\n",
    "* Representación vectorial: Convertir texto en vectores (e.g., Bag of Words o TF-IDF).\n"
   ]
  },
  {
   "cell_type": "markdown",
   "id": "119ac196",
   "metadata": {},
   "source": [
    "Diagrama:\n",
    "    \n",
    "    Incluido en Documento PDF: API1_PNL_MarceMartinez\n",
    "    "
   ]
  },
  {
   "cell_type": "markdown",
   "id": "68ac01e5",
   "metadata": {},
   "source": [
    "3. Lectura de datos en \"comentarios.csv\":\n",
    "Usar el método read_csv con separador coma (,).\n",
    "Contar registros y columnas.\n",
    "Mostrar los primeros 20 registros.\n"
   ]
  },
  {
   "cell_type": "code",
   "execution_count": 9,
   "id": "7620d4d3",
   "metadata": {},
   "outputs": [
    {
     "name": "stdout",
     "output_type": "stream",
     "text": [
      "   comentario_id                                         comentario  \\\n",
      "0              1      Me encanta la nueva versión, es espectacular.   \n",
      "1              2      El diseño es terrible, no me gusta para nada.   \n",
      "2              3  No entiendo bien las diferencias con la versió...   \n",
      "3              4  Es un gran avance en comparación con el modelo...   \n",
      "4              5       Parece que los acabados son de mala calidad.   \n",
      "\n",
      "  clasificacion  \n",
      "0         bueno  \n",
      "1          malo  \n",
      "2          info  \n",
      "3         bueno  \n",
      "4          malo  \n"
     ]
    }
   ],
   "source": [
    "import pandas as pd\n",
    "\n",
    "# Generación del DataFrame simulado\n",
    "data = {\n",
    "    \"comentario_id\": [1, 2, 3, 4, 5, 6, 7, 8, 9, 10],\n",
    "    \"comentario\": [\n",
    "        \"Me encanta la nueva versión, es espectacular.\",\n",
    "        \"El diseño es terrible, no me gusta para nada.\",\n",
    "        \"No entiendo bien las diferencias con la versión anterior.\",\n",
    "        \"Es un gran avance en comparación con el modelo anterior.\",\n",
    "        \"Parece que los acabados son de mala calidad.\",\n",
    "        \"Me gustaría saber más sobre las nuevas características.\",\n",
    "        \"Estoy impresionado con la comodidad del interior.\",\n",
    "        \"No me convence el precio, es muy caro.\",\n",
    "        \"Necesito más información sobre la garantía.\",\n",
    "        \"Excelente manejo y eficiencia, realmente bueno.\"\n",
    "    ],\n",
    "    \"clasificacion\": [\"bueno\", \"malo\", \"info\", \"bueno\", \"malo\", \"info\", \"bueno\", \"malo\", \"info\", \"bueno\"]\n",
    "}\n",
    "\n",
    "# Crear el DataFrame\n",
    "df = pd.DataFrame(data)\n",
    "\n",
    "# Mostrar los primeros registros\n",
    "print(df.head())\n"
   ]
  },
  {
   "cell_type": "code",
   "execution_count": 11,
   "id": "c116d9aa",
   "metadata": {},
   "outputs": [
    {
     "name": "stdout",
     "output_type": "stream",
     "text": [
      "Registros: 10, Columnas: 3\n",
      "   comentario_id                                         comentario  \\\n",
      "0              1      Me encanta la nueva versión, es espectacular.   \n",
      "1              2      El diseño es terrible, no me gusta para nada.   \n",
      "2              3  No entiendo bien las diferencias con la versió...   \n",
      "3              4  Es un gran avance en comparación con el modelo...   \n",
      "4              5       Parece que los acabados son de mala calidad.   \n",
      "5              6  Me gustaría saber más sobre las nuevas caracte...   \n",
      "6              7  Estoy impresionado con la comodidad del interior.   \n",
      "7              8             No me convence el precio, es muy caro.   \n",
      "8              9        Necesito más información sobre la garantía.   \n",
      "9             10    Excelente manejo y eficiencia, realmente bueno.   \n",
      "\n",
      "  clasificacion  \n",
      "0         bueno  \n",
      "1          malo  \n",
      "2          info  \n",
      "3         bueno  \n",
      "4          malo  \n",
      "5          info  \n",
      "6         bueno  \n",
      "7          malo  \n",
      "8          info  \n",
      "9         bueno  \n"
     ]
    }
   ],
   "source": [
    "import pandas as pd\n",
    "# Lectura del archivo\n",
    "comentarios = pd.read_csv(\"https://raw.githubusercontent.com/ml008008/Portfolio/refs/heads/main/comentarios.csv\", sep=\",\")\n",
    "# Cantidad de registros y columnas\n",
    "num_registros, num_columnas = comentarios.shape\n",
    "# Primeros 20 registros\n",
    "primeros_registros = comentarios.head(20)\n",
    "print(f\"Registros: {num_registros}, Columnas: {num_columnas}\")\n",
    "print(primeros_registros)\n"
   ]
  },
  {
   "cell_type": "markdown",
   "id": "aef24858",
   "metadata": {},
   "source": [
    "4. Análisis exploratorio: Porcentaje de comentarios clasificados.\n",
    "Crear una tabla que muestre los porcentajes de cada tipo de comentario (bueno, malo, info)."
   ]
  },
  {
   "cell_type": "code",
   "execution_count": 13,
   "id": "a17cc4a3",
   "metadata": {},
   "outputs": [
    {
     "name": "stdout",
     "output_type": "stream",
     "text": [
      "  clasificacion  Porcentaje\n",
      "0         bueno        40.0\n",
      "1          malo        30.0\n",
      "2          info        30.0\n"
     ]
    }
   ],
   "source": [
    "# Conteo de tipos de comentarios\n",
    "conteo_tipos = comentarios['clasificacion'].value_counts()\n",
    "# Calcular porcentajes\n",
    "porcentajes = (conteo_tipos / num_registros) * 100\n",
    "# Crear una tabla resumen\n",
    "tabla_resumen = porcentajes.reset_index()\n",
    "tabla_resumen.columns = ['clasificacion', 'Porcentaje']\n",
    "print(tabla_resumen)\n"
   ]
  },
  {
   "cell_type": "markdown",
   "id": "cd8ffb2f",
   "metadata": {},
   "source": [
    "Importante:\n",
    "Columna clasificacion = Tipo"
   ]
  },
  {
   "cell_type": "markdown",
   "id": "1f2ae7e2",
   "metadata": {},
   "source": [
    "5. Patrón de expresión regular para tokenización.\n",
    "El patrón debe:\n",
    "Incluir palabras en español y emojis como 🥰❤.\n",
    "Tratar expresiones como \":)\" como un solo token.\n",
    "Excluir puntuaciones como . , ;.\n"
   ]
  },
  {
   "cell_type": "code",
   "execution_count": 17,
   "id": "afb57c68",
   "metadata": {},
   "outputs": [
    {
     "data": {
      "text/plain": [
       "'[\\\\wáéíóúñ]+|:[)]|[:)][\\\\wáéíóúñ]+|:\\\\)|[\\\\u2764\\\\u263a\\\\U0001f970]'"
      ]
     },
     "execution_count": 17,
     "metadata": {},
     "output_type": "execute_result"
    }
   ],
   "source": [
    "r\"[\\wáéíóúñ]+|:[)]|[:)]\" r\"[\\wáéíóúñ]+|:\\)|[\\u2764\\u263a\\U0001f970]\"\n"
   ]
  },
  {
   "cell_type": "markdown",
   "id": "cb788722",
   "metadata": {},
   "source": [
    " Importante: Elcodigo unicode hace referencia a los emojis."
   ]
  },
  {
   "cell_type": "markdown",
   "id": "5cf95668",
   "metadata": {},
   "source": [
    "6. Definición del conjunto X e Y.\n",
    "X: Comentarios del DataFrame (columna de texto).\n",
    "Y: Target o tipo de comentario.\n"
   ]
  },
  {
   "cell_type": "code",
   "execution_count": 20,
   "id": "c1ce85e6",
   "metadata": {},
   "outputs": [],
   "source": [
    "X = comentarios['comentario']\n",
    "y = comentarios['clasificacion']\n"
   ]
  },
  {
   "cell_type": "code",
   "execution_count": 25,
   "id": "4cefb6bb",
   "metadata": {},
   "outputs": [
    {
     "name": "stdout",
     "output_type": "stream",
     "text": [
      "0        Me encanta la nueva versión, es espectacular.\n",
      "1        El diseño es terrible, no me gusta para nada.\n",
      "2    No entiendo bien las diferencias con la versió...\n",
      "3    Es un gran avance en comparación con el modelo...\n",
      "4         Parece que los acabados son de mala calidad.\n",
      "5    Me gustaría saber más sobre las nuevas caracte...\n",
      "6    Estoy impresionado con la comodidad del interior.\n",
      "7               No me convence el precio, es muy caro.\n",
      "8          Necesito más información sobre la garantía.\n",
      "9      Excelente manejo y eficiencia, realmente bueno.\n",
      "Name: comentario, dtype: object 0    bueno\n",
      "1     malo\n",
      "2     info\n",
      "3    bueno\n",
      "4     malo\n",
      "5     info\n",
      "6    bueno\n",
      "7     malo\n",
      "8     info\n",
      "9    bueno\n",
      "Name: clasificacion, dtype: object\n"
     ]
    }
   ],
   "source": [
    "print(X,y)"
   ]
  },
  {
   "cell_type": "code",
   "execution_count": null,
   "id": "f12d285b",
   "metadata": {},
   "outputs": [],
   "source": []
  }
 ],
 "metadata": {
  "kernelspec": {
   "display_name": "Python 3 (ipykernel)",
   "language": "python",
   "name": "python3"
  },
  "language_info": {
   "codemirror_mode": {
    "name": "ipython",
    "version": 3
   },
   "file_extension": ".py",
   "mimetype": "text/x-python",
   "name": "python",
   "nbconvert_exporter": "python",
   "pygments_lexer": "ipython3",
   "version": "3.11.4"
  }
 },
 "nbformat": 4,
 "nbformat_minor": 5
}
