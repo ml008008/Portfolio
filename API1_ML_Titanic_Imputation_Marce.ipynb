{
 "cells": [
  {
   "cell_type": "code",
   "execution_count": 179,
   "id": "5f0c4032",
   "metadata": {},
   "outputs": [
    {
     "data": {
      "text/html": [
       "<div>\n",
       "<style scoped>\n",
       "    .dataframe tbody tr th:only-of-type {\n",
       "        vertical-align: middle;\n",
       "    }\n",
       "\n",
       "    .dataframe tbody tr th {\n",
       "        vertical-align: top;\n",
       "    }\n",
       "\n",
       "    .dataframe thead th {\n",
       "        text-align: right;\n",
       "    }\n",
       "</style>\n",
       "<table border=\"1\" class=\"dataframe\">\n",
       "  <thead>\n",
       "    <tr style=\"text-align: right;\">\n",
       "      <th></th>\n",
       "      <th>pclass</th>\n",
       "      <th>survived</th>\n",
       "      <th>name</th>\n",
       "      <th>sex</th>\n",
       "      <th>age</th>\n",
       "      <th>sibsp</th>\n",
       "      <th>parch</th>\n",
       "      <th>ticket</th>\n",
       "      <th>fare</th>\n",
       "      <th>cabin</th>\n",
       "      <th>embarked</th>\n",
       "      <th>boat</th>\n",
       "      <th>body</th>\n",
       "      <th>home.dest</th>\n",
       "    </tr>\n",
       "  </thead>\n",
       "  <tbody>\n",
       "    <tr>\n",
       "      <th>0</th>\n",
       "      <td>1.0</td>\n",
       "      <td>1</td>\n",
       "      <td>Allen, Miss. Elisabeth Walton</td>\n",
       "      <td>female</td>\n",
       "      <td>29.0000</td>\n",
       "      <td>0</td>\n",
       "      <td>0</td>\n",
       "      <td>24160</td>\n",
       "      <td>2113375.0</td>\n",
       "      <td>B5</td>\n",
       "      <td>S</td>\n",
       "      <td>2</td>\n",
       "      <td>NaN</td>\n",
       "      <td>St Louis, MO</td>\n",
       "    </tr>\n",
       "    <tr>\n",
       "      <th>1</th>\n",
       "      <td>1.0</td>\n",
       "      <td>1</td>\n",
       "      <td>Allison, Master. Hudson Trevor</td>\n",
       "      <td>male</td>\n",
       "      <td>0.9167</td>\n",
       "      <td>1</td>\n",
       "      <td>2</td>\n",
       "      <td>113781</td>\n",
       "      <td>1515500.0</td>\n",
       "      <td>C22 C26</td>\n",
       "      <td>S</td>\n",
       "      <td>11</td>\n",
       "      <td>NaN</td>\n",
       "      <td>Montreal, PQ / Chesterville, ON</td>\n",
       "    </tr>\n",
       "    <tr>\n",
       "      <th>2</th>\n",
       "      <td>1.0</td>\n",
       "      <td>0</td>\n",
       "      <td>Allison, Miss. Helen Loraine</td>\n",
       "      <td>female</td>\n",
       "      <td>2.0000</td>\n",
       "      <td>1</td>\n",
       "      <td>2</td>\n",
       "      <td>113781</td>\n",
       "      <td>1515500.0</td>\n",
       "      <td>C22 C26</td>\n",
       "      <td>S</td>\n",
       "      <td>NaN</td>\n",
       "      <td>NaN</td>\n",
       "      <td>Montreal, PQ / Chesterville, ON</td>\n",
       "    </tr>\n",
       "    <tr>\n",
       "      <th>3</th>\n",
       "      <td>1.0</td>\n",
       "      <td>0</td>\n",
       "      <td>Allison, Mr. Hudson Joshua Creighton</td>\n",
       "      <td>male</td>\n",
       "      <td>30.0000</td>\n",
       "      <td>1</td>\n",
       "      <td>2</td>\n",
       "      <td>113781</td>\n",
       "      <td>1515500.0</td>\n",
       "      <td>C22 C26</td>\n",
       "      <td>S</td>\n",
       "      <td>NaN</td>\n",
       "      <td>135.0</td>\n",
       "      <td>Montreal, PQ / Chesterville, ON</td>\n",
       "    </tr>\n",
       "    <tr>\n",
       "      <th>4</th>\n",
       "      <td>1.0</td>\n",
       "      <td>0</td>\n",
       "      <td>Allison, Mrs. Hudson J C (Bessie Waldo Daniels)</td>\n",
       "      <td>female</td>\n",
       "      <td>25.0000</td>\n",
       "      <td>1</td>\n",
       "      <td>2</td>\n",
       "      <td>113781</td>\n",
       "      <td>1515500.0</td>\n",
       "      <td>C22 C26</td>\n",
       "      <td>S</td>\n",
       "      <td>NaN</td>\n",
       "      <td>NaN</td>\n",
       "      <td>Montreal, PQ / Chesterville, ON</td>\n",
       "    </tr>\n",
       "  </tbody>\n",
       "</table>\n",
       "</div>"
      ],
      "text/plain": [
       "   pclass  survived                                             name     sex  \\\n",
       "0     1.0         1                    Allen, Miss. Elisabeth Walton  female   \n",
       "1     1.0         1                   Allison, Master. Hudson Trevor    male   \n",
       "2     1.0         0                     Allison, Miss. Helen Loraine  female   \n",
       "3     1.0         0             Allison, Mr. Hudson Joshua Creighton    male   \n",
       "4     1.0         0  Allison, Mrs. Hudson J C (Bessie Waldo Daniels)  female   \n",
       "\n",
       "       age  sibsp  parch  ticket       fare    cabin embarked boat   body  \\\n",
       "0  29.0000      0      0   24160  2113375.0       B5        S    2    NaN   \n",
       "1   0.9167      1      2  113781  1515500.0  C22 C26        S   11    NaN   \n",
       "2   2.0000      1      2  113781  1515500.0  C22 C26        S  NaN    NaN   \n",
       "3  30.0000      1      2  113781  1515500.0  C22 C26        S  NaN  135.0   \n",
       "4  25.0000      1      2  113781  1515500.0  C22 C26        S  NaN    NaN   \n",
       "\n",
       "                         home.dest  \n",
       "0                     St Louis, MO  \n",
       "1  Montreal, PQ / Chesterville, ON  \n",
       "2  Montreal, PQ / Chesterville, ON  \n",
       "3  Montreal, PQ / Chesterville, ON  \n",
       "4  Montreal, PQ / Chesterville, ON  "
      ]
     },
     "execution_count": 179,
     "metadata": {},
     "output_type": "execute_result"
    }
   ],
   "source": [
    "#API 1 _ MACHINE LEARNING\n",
    "#AUTHOR: Marce Martinez\n",
    "\n",
    "#Importacion de libreria Pandas para analisis y manipulacion de data frame.\n",
    "import pandas as pd\n",
    "\n",
    "# Lectura del archivo Excel desde la URL y lo carga en un DataFrame llamado data.\n",
    "url = 'https://github.com/ml008008/Repo1/raw/main/titanic_M1.xlsx'\n",
    "data = pd.read_excel(url)\n",
    "data.head()\n"
   ]
  },
  {
   "cell_type": "code",
   "execution_count": 180,
   "id": "e7b71bc0",
   "metadata": {},
   "outputs": [
    {
     "name": "stdout",
     "output_type": "stream",
     "text": [
      "Cantidad de valores faltantes por columna:\n",
      " pclass         76\n",
      "survived        0\n",
      "name            0\n",
      "sex             0\n",
      "age           239\n",
      "sibsp           0\n",
      "parch           0\n",
      "ticket          0\n",
      "fare            0\n",
      "cabin         927\n",
      "embarked        2\n",
      "boat          751\n",
      "body         1110\n",
      "home.dest     475\n",
      "dtype: int64\n"
     ]
    }
   ],
   "source": [
    "#Descripcion de la cantidad de valores faltantes para cada columna:\n",
    "missing_values = data.isnull().sum()\n",
    "print(\"Cantidad de valores faltantes por columna:\\n\", missing_values)\n"
   ]
  },
  {
   "cell_type": "code",
   "execution_count": 181,
   "id": "815055e0",
   "metadata": {},
   "outputs": [],
   "source": [
    "#Se completan los valores faltantes en la columna 'Pclass' con 2:\n",
    "data['pclass'] = data['pclass'].fillna(2)\n"
   ]
  },
  {
   "cell_type": "code",
   "execution_count": 182,
   "id": "19785627",
   "metadata": {},
   "outputs": [
    {
     "name": "stdout",
     "output_type": "stream",
     "text": [
      "Cantidad de valores faltantes en 'Pclass' después de la imputación: 0\n"
     ]
    }
   ],
   "source": [
    "#Proceso de verificacion\n",
    "\n",
    "# a) Verificar la cantidad de valores faltantes en 'Pclass' después de la imputación\n",
    "missing_pclass_after = data['pclass'].isnull().sum()\n",
    "print(\"Cantidad de valores faltantes en 'Pclass' después de la imputación:\", missing_pclass_after)\n"
   ]
  },
  {
   "cell_type": "code",
   "execution_count": 183,
   "id": "d70e5c3a",
   "metadata": {},
   "outputs": [
    {
     "name": "stdout",
     "output_type": "stream",
     "text": [
      "Todos los valores faltantes en 'Pclass' han sido reemplazados con 2.\n"
     ]
    }
   ],
   "source": [
    "\n",
    "# b) Verificar que no hay valores faltantes en 'Pclass'\n",
    "if missing_pclass_after == 0:\n",
    "    print(\"Todos los valores faltantes en 'Pclass' han sido reemplazados con 2.\")\n",
    "else:\n",
    "    print(\"Aún hay valores faltantes en 'Pclass'.\")\n"
   ]
  },
  {
   "cell_type": "code",
   "execution_count": 184,
   "id": "ab8d3738",
   "metadata": {},
   "outputs": [
    {
     "name": "stdout",
     "output_type": "stream",
     "text": [
      "Valores únicos en la columna 'Pclass': [1. 2. 3.]\n"
     ]
    }
   ],
   "source": [
    "\n",
    "# c) Revisar los valores únicos en la columna 'Pclass'\n",
    "unique_pclass_values = data['pclass'].unique()\n",
    "print(\"Valores únicos en la columna 'Pclass':\", unique_pclass_values)\n"
   ]
  },
  {
   "cell_type": "code",
   "execution_count": 185,
   "id": "f00b7f4f",
   "metadata": {},
   "outputs": [
    {
     "name": "stdout",
     "output_type": "stream",
     "text": [
      "Valores únicos en la columna 'sex' antes de la imputación:\n",
      " ['female' 'male' 'Hombre' 'Mujer']\n"
     ]
    }
   ],
   "source": [
    "#Imputacion de valores faltantes en la columna 'sex':\n",
    "\n",
    "unique_sex_values = data['sex'].unique()\n",
    "print(\"Valores únicos en la columna 'sex' antes de la imputación:\\n\", unique_sex_values)\n",
    "\n",
    "data['sex'] = data['sex'].fillna('unknown')\n",
    "data['sex'] = data['sex'].replace('unknown', 'male')\n",
    "# Muestra los valores únicos en la columna 'Sex' antes de la imputación.\n",
    "# Rellena los valores faltantes con 'unknown'.\n",
    "# Reemplaza 'unknown' con 'male'."
   ]
  },
  {
   "cell_type": "code",
   "execution_count": 186,
   "id": "0ff74875",
   "metadata": {},
   "outputs": [
    {
     "name": "stdout",
     "output_type": "stream",
     "text": [
      "30.02627551020408\n"
     ]
    }
   ],
   "source": [
    "#Se rellenan los valores faltantes en la columna 'Age' con el promedio de edad:\n",
    "mean_age = data['age'].mean()\n",
    "\n",
    "print(mean_age)\n",
    "\n"
   ]
  },
  {
   "cell_type": "code",
   "execution_count": 187,
   "id": "25cada61",
   "metadata": {},
   "outputs": [
    {
     "data": {
      "text/html": [
       "<div>\n",
       "<style scoped>\n",
       "    .dataframe tbody tr th:only-of-type {\n",
       "        vertical-align: middle;\n",
       "    }\n",
       "\n",
       "    .dataframe tbody tr th {\n",
       "        vertical-align: top;\n",
       "    }\n",
       "\n",
       "    .dataframe thead th {\n",
       "        text-align: right;\n",
       "    }\n",
       "</style>\n",
       "<table border=\"1\" class=\"dataframe\">\n",
       "  <thead>\n",
       "    <tr style=\"text-align: right;\">\n",
       "      <th></th>\n",
       "      <th>pclass</th>\n",
       "      <th>survived</th>\n",
       "      <th>age</th>\n",
       "      <th>sibsp</th>\n",
       "      <th>parch</th>\n",
       "      <th>fare</th>\n",
       "      <th>body</th>\n",
       "    </tr>\n",
       "  </thead>\n",
       "  <tbody>\n",
       "    <tr>\n",
       "      <th>count</th>\n",
       "      <td>1219.000000</td>\n",
       "      <td>1219.000000</td>\n",
       "      <td>980.000000</td>\n",
       "      <td>1219.000000</td>\n",
       "      <td>1219.000000</td>\n",
       "      <td>1.219000e+03</td>\n",
       "      <td>109.000000</td>\n",
       "    </tr>\n",
       "    <tr>\n",
       "      <th>mean</th>\n",
       "      <td>2.242822</td>\n",
       "      <td>0.394586</td>\n",
       "      <td>30.026276</td>\n",
       "      <td>0.514356</td>\n",
       "      <td>0.400328</td>\n",
       "      <td>3.499074e+05</td>\n",
       "      <td>156.091743</td>\n",
       "    </tr>\n",
       "    <tr>\n",
       "      <th>std</th>\n",
       "      <td>0.845215</td>\n",
       "      <td>0.488962</td>\n",
       "      <td>14.465674</td>\n",
       "      <td>1.066930</td>\n",
       "      <td>0.886238</td>\n",
       "      <td>5.320825e+05</td>\n",
       "      <td>93.785269</td>\n",
       "    </tr>\n",
       "    <tr>\n",
       "      <th>min</th>\n",
       "      <td>1.000000</td>\n",
       "      <td>0.000000</td>\n",
       "      <td>0.166700</td>\n",
       "      <td>0.000000</td>\n",
       "      <td>0.000000</td>\n",
       "      <td>0.000000e+00</td>\n",
       "      <td>4.000000</td>\n",
       "    </tr>\n",
       "    <tr>\n",
       "      <th>25%</th>\n",
       "      <td>1.000000</td>\n",
       "      <td>0.000000</td>\n",
       "      <td>21.000000</td>\n",
       "      <td>0.000000</td>\n",
       "      <td>0.000000</td>\n",
       "      <td>7.925000e+04</td>\n",
       "      <td>72.000000</td>\n",
       "    </tr>\n",
       "    <tr>\n",
       "      <th>50%</th>\n",
       "      <td>3.000000</td>\n",
       "      <td>0.000000</td>\n",
       "      <td>28.000000</td>\n",
       "      <td>0.000000</td>\n",
       "      <td>0.000000</td>\n",
       "      <td>1.524580e+05</td>\n",
       "      <td>149.000000</td>\n",
       "    </tr>\n",
       "    <tr>\n",
       "      <th>75%</th>\n",
       "      <td>3.000000</td>\n",
       "      <td>1.000000</td>\n",
       "      <td>39.000000</td>\n",
       "      <td>1.000000</td>\n",
       "      <td>0.000000</td>\n",
       "      <td>3.300000e+05</td>\n",
       "      <td>236.000000</td>\n",
       "    </tr>\n",
       "    <tr>\n",
       "      <th>max</th>\n",
       "      <td>3.000000</td>\n",
       "      <td>1.000000</td>\n",
       "      <td>80.000000</td>\n",
       "      <td>8.000000</td>\n",
       "      <td>9.000000</td>\n",
       "      <td>5.123292e+06</td>\n",
       "      <td>327.000000</td>\n",
       "    </tr>\n",
       "  </tbody>\n",
       "</table>\n",
       "</div>"
      ],
      "text/plain": [
       "            pclass     survived         age        sibsp        parch  \\\n",
       "count  1219.000000  1219.000000  980.000000  1219.000000  1219.000000   \n",
       "mean      2.242822     0.394586   30.026276     0.514356     0.400328   \n",
       "std       0.845215     0.488962   14.465674     1.066930     0.886238   \n",
       "min       1.000000     0.000000    0.166700     0.000000     0.000000   \n",
       "25%       1.000000     0.000000   21.000000     0.000000     0.000000   \n",
       "50%       3.000000     0.000000   28.000000     0.000000     0.000000   \n",
       "75%       3.000000     1.000000   39.000000     1.000000     0.000000   \n",
       "max       3.000000     1.000000   80.000000     8.000000     9.000000   \n",
       "\n",
       "               fare        body  \n",
       "count  1.219000e+03  109.000000  \n",
       "mean   3.499074e+05  156.091743  \n",
       "std    5.320825e+05   93.785269  \n",
       "min    0.000000e+00    4.000000  \n",
       "25%    7.925000e+04   72.000000  \n",
       "50%    1.524580e+05  149.000000  \n",
       "75%    3.300000e+05  236.000000  \n",
       "max    5.123292e+06  327.000000  "
      ]
     },
     "execution_count": 187,
     "metadata": {},
     "output_type": "execute_result"
    }
   ],
   "source": [
    "#Validacion de calculo de media\n",
    "data.describe()"
   ]
  },
  {
   "cell_type": "code",
   "execution_count": 188,
   "id": "8a41b52d",
   "metadata": {},
   "outputs": [
    {
     "name": "stdout",
     "output_type": "stream",
     "text": [
      "0       29.000000\n",
      "1        0.916700\n",
      "2        2.000000\n",
      "3       30.000000\n",
      "4       25.000000\n",
      "          ...    \n",
      "1214    30.026276\n",
      "1215    30.026276\n",
      "1216    30.026276\n",
      "1217    19.000000\n",
      "1218    30.000000\n",
      "Name: age, Length: 1219, dtype: float64\n"
     ]
    }
   ],
   "source": [
    "data['age'] = data['age'].fillna(mean_age)\n",
    "print(data['age'])"
   ]
  },
  {
   "cell_type": "code",
   "execution_count": 189,
   "id": "3accdc41",
   "metadata": {},
   "outputs": [
    {
     "name": "stdout",
     "output_type": "stream",
     "text": [
      "Cantidad de valores faltantes en 'age' después de la imputación: 0\n",
      "Todos los valores faltantes en 'age' han sido reemplazados con el promedio de edad.\n"
     ]
    }
   ],
   "source": [
    "#Validacion de reemplazo de valores faltantes de columna age con media = 30.026275510204076\n",
    "\n",
    "\n",
    "# c) Verificar la cantidad de valores faltantes en 'Age' después de la imputación\n",
    "missing_age_after = data['age'].isnull().sum()\n",
    "print(\"Cantidad de valores faltantes en 'age' después de la imputación:\", missing_age_after)\n",
    "\n",
    "# d) Asegurarse de que todos los valores faltantes han sido reemplazados\n",
    "if missing_age_after == 0:\n",
    "    print(\"Todos los valores faltantes en 'age' han sido reemplazados con el promedio de edad.\")\n",
    "else:\n",
    "    print(\"Aún hay valores faltantes en 'age'.\")\n"
   ]
  },
  {
   "cell_type": "code",
   "execution_count": 190,
   "id": "cb0ceb82",
   "metadata": {},
   "outputs": [
    {
     "name": "stdout",
     "output_type": "stream",
     "text": [
      "Cantidad de valores faltantes por columna antes de la imputación:\n",
      " pclass          0\n",
      "survived        0\n",
      "name            0\n",
      "sex             0\n",
      "age             0\n",
      "sibsp           0\n",
      "parch           0\n",
      "ticket          0\n",
      "fare            0\n",
      "cabin         927\n",
      "embarked        2\n",
      "boat          751\n",
      "body         1110\n",
      "home.dest     475\n",
      "dtype: int64\n"
     ]
    }
   ],
   "source": [
    "#Exploracion de valores perdidos dentro de embarked andtes de realizar los cambios solicitados\n",
    "missing_values = data.isnull().sum()\n",
    "print(\"Cantidad de valores faltantes por columna antes de la imputación:\\n\", missing_values)\n"
   ]
  },
  {
   "cell_type": "code",
   "execution_count": 191,
   "id": "9a58f4eb",
   "metadata": {},
   "outputs": [],
   "source": [
    "#Finalmmente se muestra la asignacion de el valor 's' a los valores faltantes en la columna 'Embarked':\n",
    "data['embarked'] = data['embarked'].fillna('s')\n"
   ]
  },
  {
   "cell_type": "code",
   "execution_count": 192,
   "id": "7b280cb5",
   "metadata": {},
   "outputs": [
    {
     "name": "stdout",
     "output_type": "stream",
     "text": [
      "Cantidad de valores faltantes en 'embarked' después de la imputación: 0\n",
      "Todos los valores faltantes en 'embarked' han sido reemplazados con 'S'.\n",
      "Valores únicos en la columna 'Embarked': ['S' 'C' 's' 'Q']\n"
     ]
    }
   ],
   "source": [
    "#Validacion de cambios aplicados en embarked\n",
    "# Contar valores faltantes después de la imputación\n",
    "missing_embarked_after = data['embarked'].isnull().sum()\n",
    "print(\"Cantidad de valores faltantes en 'embarked' después de la imputación:\", missing_embarked_after)\n",
    "\n",
    "# Asegurarse de que no hay valores faltantes en 'Embarked'\n",
    "if missing_embarked_after == 0:\n",
    "    print(\"Todos los valores faltantes en 'embarked' han sido reemplazados con 'S'.\")\n",
    "else:\n",
    "    print(\"Aún hay valores faltantes en 'embarked'.\")\n",
    "\n",
    "# Revisar los valores únicos en la columna 'Embarked'\n",
    "unique_embarked_values = data['embarked'].unique()\n",
    "print(\"Valores únicos en la columna 'Embarked':\", unique_embarked_values)"
   ]
  }
 ],
 "metadata": {
  "kernelspec": {
   "display_name": "Python 3 (ipykernel)",
   "language": "python",
   "name": "python3"
  },
  "language_info": {
   "codemirror_mode": {
    "name": "ipython",
    "version": 3
   },
   "file_extension": ".py",
   "mimetype": "text/x-python",
   "name": "python",
   "nbconvert_exporter": "python",
   "pygments_lexer": "ipython3",
   "version": "3.11.4"
  }
 },
 "nbformat": 4,
 "nbformat_minor": 5
}
