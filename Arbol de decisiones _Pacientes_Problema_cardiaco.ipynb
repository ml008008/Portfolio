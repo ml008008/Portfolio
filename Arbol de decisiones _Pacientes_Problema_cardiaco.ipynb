{
 "cells": [
  {
   "cell_type": "code",
   "execution_count": 120,
   "id": "c5ace42d",
   "metadata": {},
   "outputs": [
    {
     "data": {
      "text/html": [
       "<div>\n",
       "<style scoped>\n",
       "    .dataframe tbody tr th:only-of-type {\n",
       "        vertical-align: middle;\n",
       "    }\n",
       "\n",
       "    .dataframe tbody tr th {\n",
       "        vertical-align: top;\n",
       "    }\n",
       "\n",
       "    .dataframe thead th {\n",
       "        text-align: right;\n",
       "    }\n",
       "</style>\n",
       "<table border=\"1\" class=\"dataframe\">\n",
       "  <thead>\n",
       "    <tr style=\"text-align: right;\">\n",
       "      <th></th>\n",
       "      <th>edad</th>\n",
       "      <th>colesterol</th>\n",
       "      <th>problema_cardiaco</th>\n",
       "    </tr>\n",
       "  </thead>\n",
       "  <tbody>\n",
       "    <tr>\n",
       "      <th>0</th>\n",
       "      <td>63</td>\n",
       "      <td>233</td>\n",
       "      <td>1</td>\n",
       "    </tr>\n",
       "    <tr>\n",
       "      <th>1</th>\n",
       "      <td>37</td>\n",
       "      <td>250</td>\n",
       "      <td>1</td>\n",
       "    </tr>\n",
       "    <tr>\n",
       "      <th>2</th>\n",
       "      <td>41</td>\n",
       "      <td>204</td>\n",
       "      <td>1</td>\n",
       "    </tr>\n",
       "    <tr>\n",
       "      <th>3</th>\n",
       "      <td>56</td>\n",
       "      <td>236</td>\n",
       "      <td>1</td>\n",
       "    </tr>\n",
       "    <tr>\n",
       "      <th>4</th>\n",
       "      <td>57</td>\n",
       "      <td>354</td>\n",
       "      <td>1</td>\n",
       "    </tr>\n",
       "  </tbody>\n",
       "</table>\n",
       "</div>"
      ],
      "text/plain": [
       "   edad  colesterol  problema_cardiaco\n",
       "0    63         233                  1\n",
       "1    37         250                  1\n",
       "2    41         204                  1\n",
       "3    56         236                  1\n",
       "4    57         354                  1"
      ]
     },
     "execution_count": 120,
     "metadata": {},
     "output_type": "execute_result"
    }
   ],
   "source": [
    "import pandas as pd\n",
    "import numpy as np\n",
    "import matplotlib.pyplot as plt\n",
    "\n",
    "pacientes = pd.read_csv('https://raw.githubusercontent.com/CodigoMaquina/code/main/datos/pacientes.csv')\n",
    "\n",
    "pacientes.head(5)\n"
   ]
  },
  {
   "cell_type": "code",
   "execution_count": 121,
   "id": "aae5bf75",
   "metadata": {},
   "outputs": [
    {
     "data": {
      "text/html": [
       "<div>\n",
       "<style scoped>\n",
       "    .dataframe tbody tr th:only-of-type {\n",
       "        vertical-align: middle;\n",
       "    }\n",
       "\n",
       "    .dataframe tbody tr th {\n",
       "        vertical-align: top;\n",
       "    }\n",
       "\n",
       "    .dataframe thead th {\n",
       "        text-align: right;\n",
       "    }\n",
       "</style>\n",
       "<table border=\"1\" class=\"dataframe\">\n",
       "  <thead>\n",
       "    <tr style=\"text-align: right;\">\n",
       "      <th></th>\n",
       "      <th>edad</th>\n",
       "      <th>colesterol</th>\n",
       "      <th>problema_cardiaco</th>\n",
       "    </tr>\n",
       "  </thead>\n",
       "  <tbody>\n",
       "    <tr>\n",
       "      <th>295</th>\n",
       "      <td>63</td>\n",
       "      <td>187</td>\n",
       "      <td>0</td>\n",
       "    </tr>\n",
       "    <tr>\n",
       "      <th>296</th>\n",
       "      <td>63</td>\n",
       "      <td>197</td>\n",
       "      <td>0</td>\n",
       "    </tr>\n",
       "    <tr>\n",
       "      <th>297</th>\n",
       "      <td>59</td>\n",
       "      <td>176</td>\n",
       "      <td>0</td>\n",
       "    </tr>\n",
       "    <tr>\n",
       "      <th>298</th>\n",
       "      <td>57</td>\n",
       "      <td>241</td>\n",
       "      <td>0</td>\n",
       "    </tr>\n",
       "    <tr>\n",
       "      <th>299</th>\n",
       "      <td>45</td>\n",
       "      <td>264</td>\n",
       "      <td>0</td>\n",
       "    </tr>\n",
       "  </tbody>\n",
       "</table>\n",
       "</div>"
      ],
      "text/plain": [
       "     edad  colesterol  problema_cardiaco\n",
       "295    63         187                  0\n",
       "296    63         197                  0\n",
       "297    59         176                  0\n",
       "298    57         241                  0\n",
       "299    45         264                  0"
      ]
     },
     "execution_count": 121,
     "metadata": {},
     "output_type": "execute_result"
    }
   ],
   "source": [
    "pacientes.tail(5)"
   ]
  },
  {
   "cell_type": "code",
   "execution_count": 122,
   "id": "4b0085af",
   "metadata": {},
   "outputs": [
    {
     "data": {
      "text/html": [
       "<div>\n",
       "<style scoped>\n",
       "    .dataframe tbody tr th:only-of-type {\n",
       "        vertical-align: middle;\n",
       "    }\n",
       "\n",
       "    .dataframe tbody tr th {\n",
       "        vertical-align: top;\n",
       "    }\n",
       "\n",
       "    .dataframe thead th {\n",
       "        text-align: right;\n",
       "    }\n",
       "</style>\n",
       "<table border=\"1\" class=\"dataframe\">\n",
       "  <thead>\n",
       "    <tr style=\"text-align: right;\">\n",
       "      <th></th>\n",
       "      <th>edad</th>\n",
       "      <th>colesterol</th>\n",
       "      <th>problema_cardiaco</th>\n",
       "    </tr>\n",
       "  </thead>\n",
       "  <tbody>\n",
       "    <tr>\n",
       "      <th>count</th>\n",
       "      <td>300.000000</td>\n",
       "      <td>300.000000</td>\n",
       "      <td>300.000000</td>\n",
       "    </tr>\n",
       "    <tr>\n",
       "      <th>mean</th>\n",
       "      <td>54.303333</td>\n",
       "      <td>246.860000</td>\n",
       "      <td>0.550000</td>\n",
       "    </tr>\n",
       "    <tr>\n",
       "      <th>std</th>\n",
       "      <td>9.090661</td>\n",
       "      <td>51.563064</td>\n",
       "      <td>0.498325</td>\n",
       "    </tr>\n",
       "    <tr>\n",
       "      <th>min</th>\n",
       "      <td>29.000000</td>\n",
       "      <td>126.000000</td>\n",
       "      <td>0.000000</td>\n",
       "    </tr>\n",
       "    <tr>\n",
       "      <th>25%</th>\n",
       "      <td>47.000000</td>\n",
       "      <td>211.000000</td>\n",
       "      <td>0.000000</td>\n",
       "    </tr>\n",
       "    <tr>\n",
       "      <th>50%</th>\n",
       "      <td>55.000000</td>\n",
       "      <td>241.500000</td>\n",
       "      <td>1.000000</td>\n",
       "    </tr>\n",
       "    <tr>\n",
       "      <th>75%</th>\n",
       "      <td>61.000000</td>\n",
       "      <td>275.000000</td>\n",
       "      <td>1.000000</td>\n",
       "    </tr>\n",
       "    <tr>\n",
       "      <th>max</th>\n",
       "      <td>77.000000</td>\n",
       "      <td>564.000000</td>\n",
       "      <td>1.000000</td>\n",
       "    </tr>\n",
       "  </tbody>\n",
       "</table>\n",
       "</div>"
      ],
      "text/plain": [
       "             edad  colesterol  problema_cardiaco\n",
       "count  300.000000  300.000000         300.000000\n",
       "mean    54.303333  246.860000           0.550000\n",
       "std      9.090661   51.563064           0.498325\n",
       "min     29.000000  126.000000           0.000000\n",
       "25%     47.000000  211.000000           0.000000\n",
       "50%     55.000000  241.500000           1.000000\n",
       "75%     61.000000  275.000000           1.000000\n",
       "max     77.000000  564.000000           1.000000"
      ]
     },
     "execution_count": 122,
     "metadata": {},
     "output_type": "execute_result"
    }
   ],
   "source": [
    "pacientes.describe()"
   ]
  },
  {
   "cell_type": "code",
   "execution_count": 123,
   "id": "11b6b02e",
   "metadata": {},
   "outputs": [
    {
     "data": {
      "text/plain": [
       "edad                 16291\n",
       "colesterol           74058\n",
       "problema_cardiaco      165\n",
       "dtype: int64"
      ]
     },
     "execution_count": 123,
     "metadata": {},
     "output_type": "execute_result"
    }
   ],
   "source": [
    "pacientes.sum()"
   ]
  },
  {
   "cell_type": "code",
   "execution_count": 124,
   "id": "92789dc4",
   "metadata": {},
   "outputs": [
    {
     "data": {
      "text/html": [
       "<div>\n",
       "<style scoped>\n",
       "    .dataframe tbody tr th:only-of-type {\n",
       "        vertical-align: middle;\n",
       "    }\n",
       "\n",
       "    .dataframe tbody tr th {\n",
       "        vertical-align: top;\n",
       "    }\n",
       "\n",
       "    .dataframe thead th {\n",
       "        text-align: right;\n",
       "    }\n",
       "</style>\n",
       "<table border=\"1\" class=\"dataframe\">\n",
       "  <thead>\n",
       "    <tr style=\"text-align: right;\">\n",
       "      <th></th>\n",
       "      <th>edad</th>\n",
       "      <th>colesterol</th>\n",
       "      <th>problema_cardiaco</th>\n",
       "    </tr>\n",
       "  </thead>\n",
       "  <tbody>\n",
       "    <tr>\n",
       "      <th>165</th>\n",
       "      <td>67</td>\n",
       "      <td>286</td>\n",
       "      <td>0</td>\n",
       "    </tr>\n",
       "    <tr>\n",
       "      <th>166</th>\n",
       "      <td>67</td>\n",
       "      <td>229</td>\n",
       "      <td>0</td>\n",
       "    </tr>\n",
       "    <tr>\n",
       "      <th>167</th>\n",
       "      <td>62</td>\n",
       "      <td>268</td>\n",
       "      <td>0</td>\n",
       "    </tr>\n",
       "    <tr>\n",
       "      <th>168</th>\n",
       "      <td>63</td>\n",
       "      <td>254</td>\n",
       "      <td>0</td>\n",
       "    </tr>\n",
       "    <tr>\n",
       "      <th>169</th>\n",
       "      <td>53</td>\n",
       "      <td>203</td>\n",
       "      <td>0</td>\n",
       "    </tr>\n",
       "    <tr>\n",
       "      <th>...</th>\n",
       "      <td>...</td>\n",
       "      <td>...</td>\n",
       "      <td>...</td>\n",
       "    </tr>\n",
       "    <tr>\n",
       "      <th>295</th>\n",
       "      <td>63</td>\n",
       "      <td>187</td>\n",
       "      <td>0</td>\n",
       "    </tr>\n",
       "    <tr>\n",
       "      <th>296</th>\n",
       "      <td>63</td>\n",
       "      <td>197</td>\n",
       "      <td>0</td>\n",
       "    </tr>\n",
       "    <tr>\n",
       "      <th>297</th>\n",
       "      <td>59</td>\n",
       "      <td>176</td>\n",
       "      <td>0</td>\n",
       "    </tr>\n",
       "    <tr>\n",
       "      <th>298</th>\n",
       "      <td>57</td>\n",
       "      <td>241</td>\n",
       "      <td>0</td>\n",
       "    </tr>\n",
       "    <tr>\n",
       "      <th>299</th>\n",
       "      <td>45</td>\n",
       "      <td>264</td>\n",
       "      <td>0</td>\n",
       "    </tr>\n",
       "  </tbody>\n",
       "</table>\n",
       "<p>135 rows × 3 columns</p>\n",
       "</div>"
      ],
      "text/plain": [
       "     edad  colesterol  problema_cardiaco\n",
       "165    67         286                  0\n",
       "166    67         229                  0\n",
       "167    62         268                  0\n",
       "168    63         254                  0\n",
       "169    53         203                  0\n",
       "..    ...         ...                ...\n",
       "295    63         187                  0\n",
       "296    63         197                  0\n",
       "297    59         176                  0\n",
       "298    57         241                  0\n",
       "299    45         264                  0\n",
       "\n",
       "[135 rows x 3 columns]"
      ]
     },
     "execution_count": 124,
     "metadata": {},
     "output_type": "execute_result"
    }
   ],
   "source": [
    "saludables= pacientes[pacientes['problema_cardiaco']==0]\n",
    "saludables"
   ]
  },
  {
   "cell_type": "code",
   "execution_count": 125,
   "id": "48b5ce43",
   "metadata": {},
   "outputs": [
    {
     "data": {
      "text/html": [
       "<div>\n",
       "<style scoped>\n",
       "    .dataframe tbody tr th:only-of-type {\n",
       "        vertical-align: middle;\n",
       "    }\n",
       "\n",
       "    .dataframe tbody tr th {\n",
       "        vertical-align: top;\n",
       "    }\n",
       "\n",
       "    .dataframe thead th {\n",
       "        text-align: right;\n",
       "    }\n",
       "</style>\n",
       "<table border=\"1\" class=\"dataframe\">\n",
       "  <thead>\n",
       "    <tr style=\"text-align: right;\">\n",
       "      <th></th>\n",
       "      <th>edad</th>\n",
       "      <th>colesterol</th>\n",
       "      <th>problema_cardiaco</th>\n",
       "    </tr>\n",
       "  </thead>\n",
       "  <tbody>\n",
       "    <tr>\n",
       "      <th>0</th>\n",
       "      <td>63</td>\n",
       "      <td>233</td>\n",
       "      <td>1</td>\n",
       "    </tr>\n",
       "    <tr>\n",
       "      <th>1</th>\n",
       "      <td>37</td>\n",
       "      <td>250</td>\n",
       "      <td>1</td>\n",
       "    </tr>\n",
       "    <tr>\n",
       "      <th>2</th>\n",
       "      <td>41</td>\n",
       "      <td>204</td>\n",
       "      <td>1</td>\n",
       "    </tr>\n",
       "    <tr>\n",
       "      <th>3</th>\n",
       "      <td>56</td>\n",
       "      <td>236</td>\n",
       "      <td>1</td>\n",
       "    </tr>\n",
       "    <tr>\n",
       "      <th>4</th>\n",
       "      <td>57</td>\n",
       "      <td>354</td>\n",
       "      <td>1</td>\n",
       "    </tr>\n",
       "    <tr>\n",
       "      <th>...</th>\n",
       "      <td>...</td>\n",
       "      <td>...</td>\n",
       "      <td>...</td>\n",
       "    </tr>\n",
       "    <tr>\n",
       "      <th>160</th>\n",
       "      <td>56</td>\n",
       "      <td>240</td>\n",
       "      <td>1</td>\n",
       "    </tr>\n",
       "    <tr>\n",
       "      <th>161</th>\n",
       "      <td>55</td>\n",
       "      <td>342</td>\n",
       "      <td>1</td>\n",
       "    </tr>\n",
       "    <tr>\n",
       "      <th>162</th>\n",
       "      <td>41</td>\n",
       "      <td>157</td>\n",
       "      <td>1</td>\n",
       "    </tr>\n",
       "    <tr>\n",
       "      <th>163</th>\n",
       "      <td>38</td>\n",
       "      <td>175</td>\n",
       "      <td>1</td>\n",
       "    </tr>\n",
       "    <tr>\n",
       "      <th>164</th>\n",
       "      <td>38</td>\n",
       "      <td>175</td>\n",
       "      <td>1</td>\n",
       "    </tr>\n",
       "  </tbody>\n",
       "</table>\n",
       "<p>165 rows × 3 columns</p>\n",
       "</div>"
      ],
      "text/plain": [
       "     edad  colesterol  problema_cardiaco\n",
       "0      63         233                  1\n",
       "1      37         250                  1\n",
       "2      41         204                  1\n",
       "3      56         236                  1\n",
       "4      57         354                  1\n",
       "..    ...         ...                ...\n",
       "160    56         240                  1\n",
       "161    55         342                  1\n",
       "162    41         157                  1\n",
       "163    38         175                  1\n",
       "164    38         175                  1\n",
       "\n",
       "[165 rows x 3 columns]"
      ]
     },
     "execution_count": 125,
     "metadata": {},
     "output_type": "execute_result"
    }
   ],
   "source": [
    "cardiacos=pacientes[pacientes['problema_cardiaco']== 1]\n",
    "cardiacos"
   ]
  },
  {
   "cell_type": "code",
   "execution_count": 126,
   "id": "30c87ab2",
   "metadata": {},
   "outputs": [
    {
     "data": {
      "image/png": "[encoded data removed]",
      "text/plain": [
       "<Figure size 600x600 with 1 Axes>"
      ]
     },
     "metadata": {},
     "output_type": "display_data"
    }
   ],
   "source": [
    "plt.figure(figsize=(6,6))\n",
    "\n",
    "plt.xlabel(\"Edad\",fontsize= 20.0)\n",
    "plt.ylabel(\"Colesterol\",fontsize = 20.0)\n",
    "\n",
    "#saludables\n",
    "plt.scatter(saludables[\"edad\"], saludables[\"colesterol\"],\n",
    "            label = \"saludables(Clase:0)\", marker=\"*\", c=\"skyblue\", s=200)\n",
    "#cardiacos\n",
    "plt.scatter(cardiacos[\"edad\"], cardiacos[\"colesterol\"],\n",
    "            label = \"cardiacos(Clase:1)\", marker=\"*\", c=\"lightcoral\", s=200)\n",
    "\n",
    "plt.legend(bbox_to_anchor=(1,0.15))\n",
    "plt.show()"
   ]
  },
  {
   "cell_type": "code",
   "execution_count": 127,
   "id": "6818474f",
   "metadata": {},
   "outputs": [],
   "source": [
    "#Datos no son lineamente separables para ser clasificados mediante una linea, \n",
    "#por lo que su clasficiacion se realiza dentro de conjunto de datos no clasificables, propiedad de arboles de decisiones\n"
   ]
  },
  {
   "cell_type": "code",
   "execution_count": 128,
   "id": "1fed37cf",
   "metadata": {},
   "outputs": [],
   "source": [
    "#Algoritmo para relializar un arbol de decision puede ser mediante entropia."
   ]
  },
  {
   "cell_type": "code",
   "execution_count": 129,
   "id": "c5abfb7c",
   "metadata": {},
   "outputs": [],
   "source": [
    "#ENTROPIA\n",
    "\n"
   ]
  },
  {
   "cell_type": "code",
   "execution_count": 130,
   "id": "c8c3e088",
   "metadata": {},
   "outputs": [],
   "source": [
    "from scipy.stats import entropy\n",
    "from math import log"
   ]
  },
  {
   "cell_type": "code",
   "execution_count": 131,
   "id": "eaba1471",
   "metadata": {},
   "outputs": [
    {
     "name": "stdout",
     "output_type": "stream",
     "text": [
      "3.0\n"
     ]
    }
   ],
   "source": [
    "#calculo para entener como funciona el logaritmo\n",
    "\n",
    "print(log(8,2))\n",
    "#logaritmo de 8 base 2 = 3"
   ]
  },
  {
   "cell_type": "code",
   "execution_count": 132,
   "id": "a6146801",
   "metadata": {},
   "outputs": [],
   "source": [
    "#Esto quiere decir que debemos multiplicar el 2, 3 veces para que nos de un 8.\n",
    "\n",
    "#2X2X2 =  4X2= 8\n",
    "\n",
    "#Podemos asociar a cuantos bits necesitamos para almacenar la informacion\n",
    "#Entropia es el promedio de informacion almacenada en una variable aleatoria.\n",
    "\n",
    "#Bits = Logaritmo mas 1\n",
    "\n",
    "\n",
    "\n"
   ]
  },
  {
   "cell_type": "code",
   "execution_count": 133,
   "id": "6450e862",
   "metadata": {},
   "outputs": [],
   "source": [
    "#Logatirmo base 2 de 8, requerimos 3 +1 = 4 bits para representar el 8\n",
    "\n",
    "# Aqui se ve la capacidad de almacenamiento de este valor.\n",
    "\n"
   ]
  },
  {
   "cell_type": "code",
   "execution_count": 134,
   "id": "a0911035",
   "metadata": {},
   "outputs": [
    {
     "name": "stdout",
     "output_type": "stream",
     "text": [
      "1.0\n",
      "El nivel de entropia es: 1.0\n"
     ]
    }
   ],
   "source": [
    "#Entonces:\n",
    "\n",
    "from scipy.stats import entropy #Funciond e scipy para calcular la entropia\n",
    "from math import log\n",
    "\n",
    "#Variable aleatoria podria ser el lanzamiento de  moneda \n",
    "#Ejemplo de lanzamiento de moneda cuando es justa:\n",
    "\n",
    "#Probalidad de cara y cruz .5 de cada 1\n",
    "print(entropy([1/2,1/2], base=2)) #base 2 porque es el sistema binario 1 (1/2) o 0 (1/2)\n",
    "\n",
    "Nivel_de_entropia = (entropy([1/2,1/2], base=2)) \n",
    "\n",
    "print(\"El nivel de entropia es:\", Nivel_de_entropia)\n"
   ]
  },
  {
   "cell_type": "code",
   "execution_count": 135,
   "id": "af75ffcf",
   "metadata": {},
   "outputs": [
    {
     "name": "stdout",
     "output_type": "stream",
     "text": [
      "0.9709505944546688\n"
     ]
    }
   ],
   "source": [
    "#Ahora con una moneda truqueada seria:\n",
    "print(entropy([6/10,4/10], base = 2))\n",
    "#Es mas probable de que caiga cara porque la moneda esta sesgada\n"
   ]
  },
  {
   "cell_type": "code",
   "execution_count": 136,
   "id": "eeb11cf5",
   "metadata": {},
   "outputs": [
    {
     "name": "stdout",
     "output_type": "stream",
     "text": [
      "0.0\n"
     ]
    }
   ],
   "source": [
    "#Exagerando sesgo, seria probablidad de caiga cara es 1 y 0 de que caiga cruz, esto seria un fraude\n",
    "\n",
    "print(entropy([10/10,0/10], base=2))"
   ]
  },
  {
   "cell_type": "code",
   "execution_count": 137,
   "id": "0032123e",
   "metadata": {},
   "outputs": [],
   "source": [
    "#Variable aleatoria en contexto de clasificacion"
   ]
  },
  {
   "cell_type": "code",
   "execution_count": 138,
   "id": "988ffc4a",
   "metadata": {},
   "outputs": [
    {
     "name": "stdout",
     "output_type": "stream",
     "text": [
      "40    1\n",
      "30    1\n",
      "20    1\n",
      "50    1\n",
      "Name: count, dtype: int64\n",
      "4\n",
      "starting\n",
      "40    0.25\n",
      "30    0.25\n",
      "20    0.25\n",
      "50    0.25\n",
      "Name: count, dtype: float64\n",
      "100    0.5\n",
      "110    0.5\n",
      "Name: count, dtype: float64\n",
      "2.0\n",
      "1.0\n"
     ]
    }
   ],
   "source": [
    "#Ahora vamos a implementar este proceso a nuestro caso inicial de pacientes\n",
    "\n",
    "\n",
    "from scipy.stats import entropy\n",
    "from math import log\n",
    "\n",
    "edades= pd.Series([40,30,20,50])\n",
    "colesterol= pd.Series([100,110,100,110])\n",
    "\n",
    "print(edades.value_counts())\n",
    "print(edades.size)\n",
    "\n",
    "print(\"starting\")\n",
    "\n",
    "print(edades.value_counts()/edades.size)  #100/4\n",
    "print(colesterol.value_counts()/colesterol.size) #100/2\n",
    "print(entropy(edades.value_counts()/edades.size, base=2))\n",
    "print(entropy(colesterol.value_counts()/colesterol.size, base=2))\n",
    "\n"
   ]
  },
  {
   "cell_type": "code",
   "execution_count": 139,
   "id": "cd42eea1",
   "metadata": {},
   "outputs": [],
   "source": [
    "#Entropia ayuda a seleccionar los nodos.\n",
    "\n",
    "#Entropia de edad tiene mas caos, posibilidades que la entropia de colesterol\n",
    "\n",
    "#Si la edad tuviera la mayor entropia solo 20 y 60 a;os, entonces si se verifica que todos los de 60 estan asociados a problemas cariagos y los de 20 no\n",
    "#Entonces la entropia edad seria el primer nodo del arbol\n",
    "\n",
    "#referente a las instancias que se van a cada lado , se repite proceso considerando las variables que se podrian de tener.\n",
    "\n"
   ]
  },
  {
   "cell_type": "code",
   "execution_count": 140,
   "id": "68fa2783",
   "metadata": {},
   "outputs": [],
   "source": [
    "#Para crear arbol de decicion comenzamos con \n",
    "#Datos de entrenamiento y prueba\n",
    "\n",
    "from sklearn.model_selection import train_test_split\n",
    "\n",
    "datos_entrena, datos_prueba, clase_entrena, clase_prueba = train_test_split(\n",
    "pacientes[[\"edad\", \"colesterol\"]],\n",
    "pacientes[[\"problema_cardiaco\"]],\n",
    "test_size=0.30)\n"
   ]
  },
  {
   "cell_type": "code",
   "execution_count": 141,
   "id": "348a7a50",
   "metadata": {},
   "outputs": [],
   "source": [
    "#CREACION DEL ARBOL DE DECISION\n",
    "\n",
    "from sklearn import tree\n",
    "\n",
    "#generacion de modelo\n",
    "arbol_decision= tree.DecisionTreeClassifier(criterion=\"entropy\", \n",
    "                                           max_depth=2) #despues de ver el resultado se puede validar otra depth\n",
    "\n",
    "arbol= arbol_decision.fit(datos_entrena, clase_entrena) #creacion de modelo de maquina,pasamos datos de entrenamiento y la clase de entrenamiento y guardamos objeto en variable arbol\n",
    "\n"
   ]
  },
  {
   "cell_type": "code",
   "execution_count": 142,
   "id": "d6f8b92c",
   "metadata": {},
   "outputs": [
    {
     "name": "stdout",
     "output_type": "stream",
     "text": [
      "0.5111111111111111\n"
     ]
    }
   ],
   "source": [
    "\n",
    "#validar que tan bueno fue el modelo, se puede hacer con una metrica llamada accuracy\n",
    "\n",
    "\n",
    "accuracy= arbol_decision.score(datos_prueba,clase_prueba)\n",
    "print(accuracy)"
   ]
  },
  {
   "cell_type": "code",
   "execution_count": 143,
   "id": "66b049ff",
   "metadata": {},
   "outputs": [
    {
     "name": "stdout",
     "output_type": "stream",
     "text": [
      "|--- Edad <= 45.50\n",
      "|   |--- Colesterol <= 178.50\n",
      "|   |   |--- class: 0\n",
      "|   |--- Colesterol >  178.50\n",
      "|   |   |--- class: 1\n",
      "|--- Edad >  45.50\n",
      "|   |--- Colesterol <= 248.50\n",
      "|   |   |--- class: 1\n",
      "|   |--- Colesterol >  248.50\n",
      "|   |   |--- class: 0\n",
      "\n"
     ]
    }
   ],
   "source": [
    "print(tree.export_text(arbol,feature_names=[\"Edad\",\"Colesterol\"]))"
   ]
  },
  {
   "cell_type": "code",
   "execution_count": 144,
   "id": "e77247e6",
   "metadata": {},
   "outputs": [
    {
     "data": {
      "image/png": "[encoded data removed]",
      "text/plain": [
       "<Figure size 1200x600 with 1 Axes>"
      ]
     },
     "metadata": {},
     "output_type": "display_data"
    }
   ],
   "source": [
    "plt.figure(figsize=(12,6))\n",
    "\n",
    "tree.plot_tree(arbol,\n",
    "              feature_names=[\"Edad\",\"colesterol\"])\n",
    "\n",
    "plt.show()\n"
   ]
  },
  {
   "cell_type": "code",
   "execution_count": 145,
   "id": "132040fe",
   "metadata": {},
   "outputs": [],
   "source": [
    "#Clasificacion de nuevos pacientes\n"
   ]
  },
  {
   "cell_type": "code",
   "execution_count": 119,
   "id": "c5b0015e",
   "metadata": {},
   "outputs": [
    {
     "name": "stdout",
     "output_type": "stream",
     "text": [
      "Nuevo paciente [1]\n"
     ]
    },
    {
     "name": "stderr",
     "output_type": "stream",
     "text": [
      "/Users/angel007/anaconda3/lib/python3.11/site-packages/sklearn/base.py:464: UserWarning: X does not have valid feature names, but DecisionTreeClassifier was fitted with feature names\n",
      "  warnings.warn(\n"
     ]
    }
   ],
   "source": [
    "print(\"Nuevo paciente\", arbol_decision.predict([[70,150]]))"
   ]
  },
  {
   "cell_type": "code",
   "execution_count": null,
   "id": "f4697e3c",
   "metadata": {},
   "outputs": [],
   "source": []
  }
 ],
 "metadata": {
  "kernelspec": {
   "display_name": "Python 3 (ipykernel)",
   "language": "python",
   "name": "python3"
  },
  "language_info": {
   "codemirror_mode": {
    "name": "ipython",
    "version": 3
   },
   "file_extension": ".py",
   "mimetype": "text/x-python",
   "name": "python",
   "nbconvert_exporter": "python",
   "pygments_lexer": "ipython3",
   "version": "3.11.4"
  }
 },
 "nbformat": 4,
 "nbformat_minor": 5
}
