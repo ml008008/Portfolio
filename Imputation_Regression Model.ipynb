{
 "cells": [
  {
   "cell_type": "code",
   "execution_count": 68,
   "id": "8e6fb29d",
   "metadata": {},
   "outputs": [],
   "source": [
    "# This example demonstrates a straightforward approach to regression imputation."
   ]
  },
  {
   "cell_type": "code",
   "execution_count": 69,
   "id": "e89a26b1",
   "metadata": {},
   "outputs": [],
   "source": [
    "import pandas as pd\n",
    "import numpy as np\n",
    "\n",
    "from sklearn.linear_model import LinearRegression\n",
    "\n",
    "# Sample data\n",
    "data = {\n",
    "    'X': [1, 2, 3, 4, 5, 6, 7, 8, 9, 10],\n",
    "    'Y': [2, 4, np.nan, 8, 10, 12, np.nan, 16, 18, 20]\n",
    "}\n",
    "df = pd.DataFrame(data)\n",
    "\n",
    "#  This code imports necessary libraries, creates a sample dataset with missing values,\n",
    "#     and converts it into a pandas DataFrame for further analysis and imputation.\n"
   ]
  },
  {
   "cell_type": "code",
   "execution_count": 70,
   "id": "7d9db74a",
   "metadata": {},
   "outputs": [],
   "source": [
    "# Explanation:\n",
    "\n",
    "#    Import Libraries:\n",
    "#    import pandas as pd: Imports the pandas library, which is used for data manipulation and analysis.\n",
    "#    import numpy as np: Imports the numpy library, which is used for numerical operations and handling missing values (np.nan).\n",
    "#    from sklearn.linear_model import LinearRegression: \n",
    "#.   Imports the LinearRegression class from the scikit-learn library, which will be used to create a linear regression model.\n",
    "\n",
    "#     Sample Data:\n",
    "#         data = {'X': [1, 2, 3, 4, 5, 6, 7, 8, 9, 10], 'Y': [2, 4, np.nan, 8, 10, 12, np.nan, 16, 18, 20]}\n",
    "#             Creates a dictionary with two keys: X and Y.\n",
    "#             The X key has a list of numbers from 1 to 10.\n",
    "#             The Y key has a list of numbers with some missing values represented by np.nan.\n",
    "\n",
    "#     Create DataFrame:\n",
    "#         df = pd.DataFrame(data)\n",
    "#             Converts the dictionary data into a pandas DataFrame named df.\n",
    "#             The resulting DataFrame has two columns: X and Y, with Y containing some missing values (np.nan)."
   ]
  },
  {
   "cell_type": "code",
   "execution_count": 71,
   "id": "bb99a232",
   "metadata": {},
   "outputs": [
    {
     "name": "stdout",
     "output_type": "stream",
     "text": [
      "Original DataFrame:\n",
      "    X     Y\n",
      "0   1   2.0\n",
      "1   2   4.0\n",
      "2   3   NaN\n",
      "3   4   8.0\n",
      "4   5  10.0\n",
      "5   6  12.0\n",
      "6   7   NaN\n",
      "7   8  16.0\n",
      "8   9  18.0\n",
      "9  10  20.0\n"
     ]
    }
   ],
   "source": [
    "\n",
    "# Display the original data\n",
    "print(\"Original DataFrame:\")\n",
    "print(df)\n",
    "\n"
   ]
  },
  {
   "cell_type": "code",
   "execution_count": 72,
   "id": "9cee9adc",
   "metadata": {},
   "outputs": [
    {
     "name": "stdout",
     "output_type": "stream",
     "text": [
      "This dataframe will be used to train the regression model\n",
      "    X     Y\n",
      "0   1   2.0\n",
      "1   2   4.0\n",
      "3   4   8.0\n",
      "4   5  10.0\n",
      "5   6  12.0\n",
      "7   8  16.0\n",
      "8   9  18.0\n",
      "9  10  20.0\n",
      "This dataframe will be used for predicting and imputing the missing Y values\n",
      "   X   Y\n",
      "2  3 NaN\n",
      "6  7 NaN\n"
     ]
    }
   ],
   "source": [
    "# Split the data into training and prediction sets\n",
    "\n",
    "train_df = df[df['Y'].notna()]\n",
    "print(\"This dataframe will be used to train the regression model\")\n",
    "print(train_df)\n",
    "\n",
    "\n",
    "predict_df = df[df['Y'].isna()]\n",
    "print(\"This dataframe will be used for predicting and imputing the missing Y values\")\n",
    "print(predict_df)\n",
    "\n",
    "\n",
    "#    train_df = df[df['Y'].notna()]:\n",
    "#        \n",
    "#        df[df['Y'].notna()] selects all rows from df where the boolean series is True. This creates a new dataframe train_df containing only rows with non-missing Y values. This dataframe will be used to train the regression model.\n",
    "\n",
    "#    predict_df = df[df['Y'].isna()]:\n",
    "#       \n",
    "#        df[df['Y'].isna()] selects all rows from df where the boolean series is True. This creates a new dataframe predict_df containing only rows with missing Y values. This dataframe will be used for predicting and imputing the missing Y values.\n",
    "\n",
    "#In summary, the code splits the original dataframe into two parts: one for training the model (with complete data) and one for predicting the missing values (with incomplete data).\n",
    "\n"
   ]
  },
  {
   "cell_type": "code",
   "execution_count": 73,
   "id": "0d31ad94",
   "metadata": {},
   "outputs": [
    {
     "data": {
      "text/html": [
       "<style>#sk-container-id-9 {color: black;}#sk-container-id-9 pre{padding: 0;}#sk-container-id-9 div.sk-toggleable {background-color: white;}#sk-container-id-9 label.sk-toggleable__label {cursor: pointer;display: block;width: 100%;margin-bottom: 0;padding: 0.3em;box-sizing: border-box;text-align: center;}#sk-container-id-9 label.sk-toggleable__label-arrow:before {content: \"▸\";float: left;margin-right: 0.25em;color: #696969;}#sk-container-id-9 label.sk-toggleable__label-arrow:hover:before {color: black;}#sk-container-id-9 div.sk-estimator:hover label.sk-toggleable__label-arrow:before {color: black;}#sk-container-id-9 div.sk-toggleable__content {max-height: 0;max-width: 0;overflow: hidden;text-align: left;background-color: #f0f8ff;}#sk-container-id-9 div.sk-toggleable__content pre {margin: 0.2em;color: black;border-radius: 0.25em;background-color: #f0f8ff;}#sk-container-id-9 input.sk-toggleable__control:checked~div.sk-toggleable__content {max-height: 200px;max-width: 100%;overflow: auto;}#sk-container-id-9 input.sk-toggleable__control:checked~label.sk-toggleable__label-arrow:before {content: \"▾\";}#sk-container-id-9 div.sk-estimator input.sk-toggleable__control:checked~label.sk-toggleable__label {background-color: #d4ebff;}#sk-container-id-9 div.sk-label input.sk-toggleable__control:checked~label.sk-toggleable__label {background-color: #d4ebff;}#sk-container-id-9 input.sk-hidden--visually {border: 0;clip: rect(1px 1px 1px 1px);clip: rect(1px, 1px, 1px, 1px);height: 1px;margin: -1px;overflow: hidden;padding: 0;position: absolute;width: 1px;}#sk-container-id-9 div.sk-estimator {font-family: monospace;background-color: #f0f8ff;border: 1px dotted black;border-radius: 0.25em;box-sizing: border-box;margin-bottom: 0.5em;}#sk-container-id-9 div.sk-estimator:hover {background-color: #d4ebff;}#sk-container-id-9 div.sk-parallel-item::after {content: \"\";width: 100%;border-bottom: 1px solid gray;flex-grow: 1;}#sk-container-id-9 div.sk-label:hover label.sk-toggleable__label {background-color: #d4ebff;}#sk-container-id-9 div.sk-serial::before {content: \"\";position: absolute;border-left: 1px solid gray;box-sizing: border-box;top: 0;bottom: 0;left: 50%;z-index: 0;}#sk-container-id-9 div.sk-serial {display: flex;flex-direction: column;align-items: center;background-color: white;padding-right: 0.2em;padding-left: 0.2em;position: relative;}#sk-container-id-9 div.sk-item {position: relative;z-index: 1;}#sk-container-id-9 div.sk-parallel {display: flex;align-items: stretch;justify-content: center;background-color: white;position: relative;}#sk-container-id-9 div.sk-item::before, #sk-container-id-9 div.sk-parallel-item::before {content: \"\";position: absolute;border-left: 1px solid gray;box-sizing: border-box;top: 0;bottom: 0;left: 50%;z-index: -1;}#sk-container-id-9 div.sk-parallel-item {display: flex;flex-direction: column;z-index: 1;position: relative;background-color: white;}#sk-container-id-9 div.sk-parallel-item:first-child::after {align-self: flex-end;width: 50%;}#sk-container-id-9 div.sk-parallel-item:last-child::after {align-self: flex-start;width: 50%;}#sk-container-id-9 div.sk-parallel-item:only-child::after {width: 0;}#sk-container-id-9 div.sk-dashed-wrapped {border: 1px dashed gray;margin: 0 0.4em 0.5em 0.4em;box-sizing: border-box;padding-bottom: 0.4em;background-color: white;}#sk-container-id-9 div.sk-label label {font-family: monospace;font-weight: bold;display: inline-block;line-height: 1.2em;}#sk-container-id-9 div.sk-label-container {text-align: center;}#sk-container-id-9 div.sk-container {/* jupyter's `normalize.less` sets `[hidden] { display: none; }` but bootstrap.min.css set `[hidden] { display: none !important; }` so we also need the `!important` here to be able to override the default hidden behavior on the sphinx rendered scikit-learn.org. See: https://github.com/scikit-learn/scikit-learn/issues/21755 */display: inline-block !important;position: relative;}#sk-container-id-9 div.sk-text-repr-fallback {display: none;}</style><div id=\"sk-container-id-9\" class=\"sk-top-container\"><div class=\"sk-text-repr-fallback\"><pre>LinearRegression()</pre><b>In a Jupyter environment, please rerun this cell to show the HTML representation or trust the notebook. <br />On GitHub, the HTML representation is unable to render, please try loading this page with nbviewer.org.</b></div><div class=\"sk-container\" hidden><div class=\"sk-item\"><div class=\"sk-estimator sk-toggleable\"><input class=\"sk-toggleable__control sk-hidden--visually\" id=\"sk-estimator-id-9\" type=\"checkbox\" checked><label for=\"sk-estimator-id-9\" class=\"sk-toggleable__label sk-toggleable__label-arrow\">LinearRegression</label><div class=\"sk-toggleable__content\"><pre>LinearRegression()</pre></div></div></div></div></div>"
      ],
      "text/plain": [
       "LinearRegression()"
      ]
     },
     "execution_count": 73,
     "metadata": {},
     "output_type": "execute_result"
    }
   ],
   "source": [
    "\n",
    "# Train the regression model\n",
    "model = LinearRegression()\n",
    "#Este código está utilizando la biblioteca de scikit-learn en Python para entrenar un modelo de regresión lineal.\n",
    "\n",
    "# LinearRegression() es una clase proporcionada por scikit-learn que implementa un modelo de regresión lineal. \n",
    "# Este modelo se utiliza para predecir valores continuos basados en una relación lineal entre las características (variables independientes) y la variable objetivo (variable dependiente).\n",
    "\n",
    "# model es el objeto que se crea como una instancia de la clase LinearRegression(). \n",
    "# Este objeto representa nuestro modelo de regresión lineal y contendrá los parámetros aprendidos después de entrenar el modelo.\n",
    "\n",
    "model.fit(train_df[['X']], train_df['Y'])\n",
    "\n",
    "#     fit() es un método en scikit-learn que se utiliza para ajustar (entrenar) el modelo a los datos proporcionados. En este caso, se está entrenando el modelo de regresión lineal utilizando los datos en train_df.\n",
    "\n",
    "#     train_df[['X']] se refiere a la columna 'X' en el DataFrame train_df. \n",
    "#     En scikit-learn, las características (variables independientes) \n",
    "#     se pasan como un DataFrame o matriz bidimensional.\n",
    "#     Es importante notar que [['X']] se usa en lugar de ['X'] para asegurar que se pase una estructura de datos \n",
    "#     bidimensional, ya que scikit-learn espera que los predictores (X) estén en una matriz 2D.\n",
    "\n",
    "#     train_df['Y'] se refiere a la variable objetivo (variable dependiente) \n",
    "#     que estamos tratando de predecir utilizando el modelo.\n",
    "\n",
    "# En resumen, este código crea un modelo de regresión lineal y lo entrena utilizando los datos en train_df.\n",
    "# Una vez entrenado, el modelo estará listo para hacer predicciones sobre nuevos datos basados en la relación \n",
    "# lineal que ha aprendido de los datos de entrenamiento.\n"
   ]
  },
  {
   "cell_type": "code",
   "execution_count": 74,
   "id": "0265aa4e",
   "metadata": {},
   "outputs": [],
   "source": [
    "# Predict the missing values\n",
    "predicted_values = model.predict(predict_df[['X']])\n",
    "\n",
    "#     model.predict() is a method in scikit-learn used to make predictions with a trained model. \n",
    "#     In this case, model refers to a previously trained linear regression model.\n",
    "\n",
    "#     predict_df[['X']] refers to the feature (or input) data from which we want to predict values. \n",
    "#     In scikit-learn, input data should typically be passed as a DataFrame or a 2-dimensional array. \n",
    "#     Here, [['X']] is used to ensure predict_df['X'] is treated as a DataFrame slice, \n",
    "#     ensuring compatibility with scikit-learn's requirements.\n",
    "\n",
    "#     predicted_values will store the predicted values generated by the model based on the feature data provided \n",
    "#     (predict_df[['X']]).\n",
    "\n",
    "# In essence, after training a linear regression model (model.fit()), this code snippet uses that trained model to predict the values for a new set of data (predict_df). The predictions (predicted_values) will be based on the relationships learned during the model training phase, and these predicted values can be used, \n",
    "# for example, to fill in missing values in a dataset or to make forecasts based on new input data.\n"
   ]
  },
  {
   "cell_type": "code",
   "execution_count": 75,
   "id": "d5576adb",
   "metadata": {},
   "outputs": [
    {
     "name": "stdout",
     "output_type": "stream",
     "text": [
      "[ 6. 14.]\n",
      "Series([], Name: Y, dtype: float64)\n"
     ]
    }
   ],
   "source": [
    "# Impute the missing values\n",
    "df.loc[df['Y'].isna(), 'Y'] = predicted_values\n",
    "\n",
    "#     df['Y'].isna() checks for missing (NaN) values in the column 'Y' of the DataFrame df. \n",
    "#     This condition returns a boolean mask where True indicates that a value is missing.\n",
    "\n",
    "#     df.loc[condition, 'Y'] accesses the subset of the DataFrame df where the condition (df['Y'].isna()) is True\n",
    "#     specifically in the column 'Y'. This allows us to target only the rows where 'Y' has missing values.\n",
    "\n",
    "#     predicted_values is the array or list of values that we obtained from \n",
    "#     the previous step where we used a regression model (model.predict(predict_df[['X']])) \n",
    "#     to predict missing values.\n",
    "\n",
    "#     df.loc[df['Y'].isna(), 'Y'] = predicted_values assigns the predicted values (predicted_values) to\n",
    "#     the subset of df where 'Y' was originally missing. \n",
    "#     This effectively fills in the missing values in 'Y' with the values predicted by the model.\n",
    "\n",
    "# In summary, this code snippet completes the imputation process by replacing missing values in the 'Y' column of df with predicted values obtained from a regression model. This is useful in scenarios where you have missing data that you want to estimate using a predictive model trained on existing data.\n",
    "\n",
    "print(predicted_values)\n",
    "print(df.loc[df['Y'].isna(), 'Y'])"
   ]
  },
  {
   "cell_type": "code",
   "execution_count": 76,
   "id": "1e9da61b",
   "metadata": {},
   "outputs": [
    {
     "name": "stdout",
     "output_type": "stream",
     "text": [
      "\n",
      "DataFrame after Imputation:\n",
      "    X     Y\n",
      "0   1   2.0\n",
      "1   2   4.0\n",
      "2   3   6.0\n",
      "3   4   8.0\n",
      "4   5  10.0\n",
      "5   6  12.0\n",
      "6   7  14.0\n",
      "7   8  16.0\n",
      "8   9  18.0\n",
      "9  10  20.0\n"
     ]
    }
   ],
   "source": [
    "# Display the imputed data\n",
    "print(\"\\nDataFrame after Imputation:\")\n",
    "print(df)\n"
   ]
  },
  {
   "cell_type": "code",
   "execution_count": 77,
   "id": "d16e03fd",
   "metadata": {},
   "outputs": [],
   "source": [
    "#Explanation:\n",
    "\n",
    "#    Data Preparation: We create a sample dataset with missing values in the Y column.\n",
    "#    Split Data: We separate the data into two subsets: one for training the regression model (train_df) and one for predicting the missing values (predict_df).\n",
    "#    Train Model: We fit a linear regression model using the non-missing values.\n",
    "#    Predict Missing Values: We use the trained model to predict the missing Y values.\n",
    "#    Impute Missing Values: We replace the missing values in the original dataframe with the predicted values.\n"
   ]
  }
 ],
 "metadata": {
  "kernelspec": {
   "display_name": "Python 3 (ipykernel)",
   "language": "python",
   "name": "python3"
  },
  "language_info": {
   "codemirror_mode": {
    "name": "ipython",
    "version": 3
   },
   "file_extension": ".py",
   "mimetype": "text/x-python",
   "name": "python",
   "nbconvert_exporter": "python",
   "pygments_lexer": "ipython3",
   "version": "3.11.4"
  }
 },
 "nbformat": 4,
 "nbformat_minor": 5
}
