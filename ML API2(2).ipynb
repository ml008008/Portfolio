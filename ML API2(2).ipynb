{
 "cells": [
  {
   "cell_type": "code",
   "execution_count": 84,
   "id": "e742022a",
   "metadata": {},
   "outputs": [],
   "source": [
    "# Consignas Marce Mtz.\n",
    "\n",
    "# El desafío actual consiste en generar un modelo de regresión logística que \n",
    "# permita calcular el grado de accuracy con el cual se pueda determinar, en el grupo de \"prueba\", \n",
    "# quiénes son los sobrevivientes en la tragedia del Titanic.\n",
    "\n",
    "# a)Describir brevemente la cantidad de valores faltantes para cada una de las variables de la base de datos.\n",
    "# b)Completar aquellas variables que se encuentran faltantes para las bases de train (“Age”,”fare”, “Cabin”) y test ( “Age”, “Cabin”, “embarked”).\n",
    "# c)Ajustar el primer modelo de regresión logística.\n",
    "# d)Entrenar y determinar el nivel de accuracy del primer modelo.\n"
   ]
  },
  {
   "cell_type": "code",
   "execution_count": 85,
   "id": "12b3b502",
   "metadata": {},
   "outputs": [],
   "source": [
    "#importacion de liberias y carga de conjunto de datos\n",
    "\n",
    "import pandas as pd\n",
    "from sklearn.model_selection import train_test_split\n",
    "from sklearn.linear_model import LogisticRegression\n",
    "from sklearn.metrics import accuracy_score\n",
    "\n",
    "train_data = pd.read_csv('https://raw.githubusercontent.com/ml008008/Portfolio/main/train(1).csv')\n",
    "test_data = pd.read_csv('https://raw.githubusercontent.com/ml008008/Portfolio/main/test(1).csv')\n",
    "\n"
   ]
  },
  {
   "cell_type": "code",
   "execution_count": 86,
   "id": "576775d9",
   "metadata": {},
   "outputs": [
    {
     "name": "stdout",
     "output_type": "stream",
     "text": [
      "Train Data:\n",
      "   PassengerId  Survived  Pclass  \\\n",
      "0            1         0       3   \n",
      "1            2         1       1   \n",
      "2            3         1       3   \n",
      "3            4         1       1   \n",
      "4            5         0       3   \n",
      "\n",
      "                                                Name     Sex   Age  SibSp  \\\n",
      "0                            Braund, Mr. Owen Harris    male  22.0      1   \n",
      "1  Cumings, Mrs. John Bradley (Florence Briggs Th...  female  38.0      1   \n",
      "2                             Heikkinen, Miss. Laina  female  26.0      0   \n",
      "3       Futrelle, Mrs. Jacques Heath (Lily May Peel)  female  35.0      1   \n",
      "4                           Allen, Mr. William Henry    male  35.0      0   \n",
      "\n",
      "   Parch            Ticket     Fare Cabin Embarked  \n",
      "0      0         A/5 21171   7.2500   NaN        S  \n",
      "1      0          PC 17599  71.2833   C85        C  \n",
      "2      0  STON/O2. 3101282   7.9250   NaN        S  \n",
      "3      0            113803  53.1000  C123        S  \n",
      "4      0            373450   8.0500   NaN        S  \n"
     ]
    }
   ],
   "source": [
    "# Exploracion de conjunto de datos\n",
    "\n",
    "print(\"Train Data:\")\n",
    "print(train_data.head())\n"
   ]
  },
  {
   "cell_type": "code",
   "execution_count": 87,
   "id": "17ce7408",
   "metadata": {},
   "outputs": [
    {
     "name": "stdout",
     "output_type": "stream",
     "text": [
      "\n",
      "Test Data:\n",
      "   PassengerId  Pclass                                          Name     Sex  \\\n",
      "0          892       3                              Kelly, Mr. James    male   \n",
      "1          893       3              Wilkes, Mrs. James (Ellen Needs)  female   \n",
      "2          894       2                     Myles, Mr. Thomas Francis    male   \n",
      "3          895       3                              Wirz, Mr. Albert    male   \n",
      "4          896       3  Hirvonen, Mrs. Alexander (Helga E Lindqvist)  female   \n",
      "\n",
      "    Age  SibSp  Parch   Ticket     Fare Cabin Embarked  \n",
      "0  34.5      0      0   330911   7.8292   NaN        Q  \n",
      "1  47.0      1      0   363272   7.0000   NaN        S  \n",
      "2  62.0      0      0   240276   9.6875   NaN        Q  \n",
      "3  27.0      0      0   315154   8.6625   NaN        S  \n",
      "4  22.0      1      1  3101298  12.2875   NaN        S  \n"
     ]
    }
   ],
   "source": [
    "print(\"\\nTest Data:\")\n",
    "print(test_data.head())\n"
   ]
  },
  {
   "cell_type": "code",
   "execution_count": 88,
   "id": "af2f74ac",
   "metadata": {},
   "outputs": [],
   "source": [
    "# a)Describir brevemente la cantidad de valores faltantes para cada una de las variables de la base de datos."
   ]
  },
  {
   "cell_type": "code",
   "execution_count": 89,
   "id": "7ce76e57",
   "metadata": {},
   "outputs": [
    {
     "name": "stdout",
     "output_type": "stream",
     "text": [
      "Missing values in the training data:\n",
      "PassengerId      0\n",
      "Survived         0\n",
      "Pclass           0\n",
      "Name             0\n",
      "Sex              0\n",
      "Age            177\n",
      "SibSp            0\n",
      "Parch            0\n",
      "Ticket           0\n",
      "Fare             0\n",
      "Cabin          687\n",
      "Embarked         2\n",
      "dtype: int64\n"
     ]
    }
   ],
   "source": [
    "\n",
    "# Descripcion de valores faltantes en el dataset de entrenamiento.\n",
    "print(\"Missing values in the training data:\")\n",
    "print(train_data.isnull().sum())\n"
   ]
  },
  {
   "cell_type": "code",
   "execution_count": 90,
   "id": "31451409",
   "metadata": {},
   "outputs": [],
   "source": [
    "#variables con valores faltantes dentro del dataset de entranamiento: Age con 177 , Cabin con 687 y Embarked con 2."
   ]
  },
  {
   "cell_type": "code",
   "execution_count": 91,
   "id": "f6b9cf01",
   "metadata": {},
   "outputs": [
    {
     "name": "stdout",
     "output_type": "stream",
     "text": [
      "\n",
      "Valores faltantes en conjunto de datos de pruebas:\n",
      "PassengerId      0\n",
      "Pclass           0\n",
      "Name             0\n",
      "Sex              0\n",
      "Age             86\n",
      "SibSp            0\n",
      "Parch            0\n",
      "Ticket           0\n",
      "Fare             1\n",
      "Cabin          327\n",
      "Embarked         0\n",
      "dtype: int64\n"
     ]
    }
   ],
   "source": [
    "\n",
    "# Descripcion de valores faltantes en conjunto de datos de prueba.\n",
    "print(\"\\nValores faltantes en conjunto de datos de pruebas:\")\n",
    "print(test_data.isnull().sum())\n"
   ]
  },
  {
   "cell_type": "code",
   "execution_count": 92,
   "id": "399d3c85",
   "metadata": {},
   "outputs": [],
   "source": [
    "#variables con valores faltantes dentro del dataset de prueba: Age con 86 , Fare con 1 y Cabin con 327."
   ]
  },
  {
   "cell_type": "code",
   "execution_count": 93,
   "id": "3aa8724f",
   "metadata": {},
   "outputs": [],
   "source": [
    "# b)Completar aquellas variables que se encuentran faltantes para las bases de train (“Age”,”fare”, “Cabin”) y test ( “Age”, “Cabin”, “embarked”).\n"
   ]
  },
  {
   "cell_type": "code",
   "execution_count": 94,
   "id": "b8fbb10c",
   "metadata": {},
   "outputs": [
    {
     "name": "stderr",
     "output_type": "stream",
     "text": [
      "/var/folders/kc/lmcph3h14hj9vsq6nysrx5vc0000gn/T/ipykernel_7097/1801225079.py:4: FutureWarning: A value is trying to be set on a copy of a DataFrame or Series through chained assignment using an inplace method.\n",
      "The behavior will change in pandas 3.0. This inplace method will never work because the intermediate object on which we are setting values always behaves as a copy.\n",
      "\n",
      "For example, when doing 'df[col].method(value, inplace=True)', try using 'df.method({col: value}, inplace=True)' or df[col] = df[col].method(value) instead, to perform the operation inplace on the original object.\n",
      "\n",
      "\n",
      "  train_data['Age'].fillna(train_data['Age'].median(), inplace=True)\n"
     ]
    }
   ],
   "source": [
    "#1.LLenado de valores faltantes del conjunto de datos de entrenamiento\n",
    "\n",
    "#LLenado de columna  Age con el valor de su media.\n",
    "train_data['Age'].fillna(train_data['Age'].median(), inplace=True)"
   ]
  },
  {
   "cell_type": "code",
   "execution_count": 95,
   "id": "950575cf",
   "metadata": {},
   "outputs": [
    {
     "name": "stdout",
     "output_type": "stream",
     "text": [
      "Valor mas frecuente en la columna embarked: S\n"
     ]
    },
    {
     "name": "stderr",
     "output_type": "stream",
     "text": [
      "/var/folders/kc/lmcph3h14hj9vsq6nysrx5vc0000gn/T/ipykernel_7097/1348001795.py:2: FutureWarning: A value is trying to be set on a copy of a DataFrame or Series through chained assignment using an inplace method.\n",
      "The behavior will change in pandas 3.0. This inplace method will never work because the intermediate object on which we are setting values always behaves as a copy.\n",
      "\n",
      "For example, when doing 'df[col].method(value, inplace=True)', try using 'df.method({col: value}, inplace=True)' or df[col] = df[col].method(value) instead, to perform the operation inplace on the original object.\n",
      "\n",
      "\n",
      "  train_data['Cabin'].fillna('Unknown', inplace=True)\n",
      "/var/folders/kc/lmcph3h14hj9vsq6nysrx5vc0000gn/T/ipykernel_7097/1348001795.py:10: FutureWarning: A value is trying to be set on a copy of a DataFrame or Series through chained assignment using an inplace method.\n",
      "The behavior will change in pandas 3.0. This inplace method will never work because the intermediate object on which we are setting values always behaves as a copy.\n",
      "\n",
      "For example, when doing 'df[col].method(value, inplace=True)', try using 'df.method({col: value}, inplace=True)' or df[col] = df[col].method(value) instead, to perform the operation inplace on the original object.\n",
      "\n",
      "\n",
      "  train_data['Embarked'].fillna(most_frequent_embarked, inplace=True)\n"
     ]
    }
   ],
   "source": [
    "\n",
    "# Considerando que la columna de  'Cabin'tiene muchos valores faltantes,he decidio llenarla con un placeholder.\n",
    "train_data['Cabin'].fillna('Unknown', inplace=True)\n",
    "\n",
    "# Calculo de valores mas frecuentes dentro de columna Embarked\n",
    "most_frequent_embarked = train_data['Embarked'].mode()[0]\n",
    "\n",
    "print('Valor mas frecuente en la columna embarked:', most_frequent_embarked)\n",
    "\n",
    "# Llenado de valores faltantesde Columna embarked \n",
    "train_data['Embarked'].fillna(most_frequent_embarked, inplace=True)\n"
   ]
  },
  {
   "cell_type": "code",
   "execution_count": 96,
   "id": "8b47366f",
   "metadata": {},
   "outputs": [
    {
     "name": "stderr",
     "output_type": "stream",
     "text": [
      "/var/folders/kc/lmcph3h14hj9vsq6nysrx5vc0000gn/T/ipykernel_7097/1968094083.py:4: FutureWarning: A value is trying to be set on a copy of a DataFrame or Series through chained assignment using an inplace method.\n",
      "The behavior will change in pandas 3.0. This inplace method will never work because the intermediate object on which we are setting values always behaves as a copy.\n",
      "\n",
      "For example, when doing 'df[col].method(value, inplace=True)', try using 'df.method({col: value}, inplace=True)' or df[col] = df[col].method(value) instead, to perform the operation inplace on the original object.\n",
      "\n",
      "\n",
      "  test_data['Age'].fillna(test_data['Age'].median(), inplace=True)\n",
      "/var/folders/kc/lmcph3h14hj9vsq6nysrx5vc0000gn/T/ipykernel_7097/1968094083.py:5: FutureWarning: A value is trying to be set on a copy of a DataFrame or Series through chained assignment using an inplace method.\n",
      "The behavior will change in pandas 3.0. This inplace method will never work because the intermediate object on which we are setting values always behaves as a copy.\n",
      "\n",
      "For example, when doing 'df[col].method(value, inplace=True)', try using 'df.method({col: value}, inplace=True)' or df[col] = df[col].method(value) instead, to perform the operation inplace on the original object.\n",
      "\n",
      "\n",
      "  test_data['Fare'].fillna(test_data['Fare'].median(), inplace=True)\n",
      "/var/folders/kc/lmcph3h14hj9vsq6nysrx5vc0000gn/T/ipykernel_7097/1968094083.py:6: FutureWarning: A value is trying to be set on a copy of a DataFrame or Series through chained assignment using an inplace method.\n",
      "The behavior will change in pandas 3.0. This inplace method will never work because the intermediate object on which we are setting values always behaves as a copy.\n",
      "\n",
      "For example, when doing 'df[col].method(value, inplace=True)', try using 'df.method({col: value}, inplace=True)' or df[col] = df[col].method(value) instead, to perform the operation inplace on the original object.\n",
      "\n",
      "\n",
      "  test_data['Cabin'].fillna('Unknown', inplace=True)\n"
     ]
    }
   ],
   "source": [
    "#2.LLenado de valores faltantes del conjunto de datos de prueba.\n",
    "\n",
    "# LLenado de valores faltantes para las columnas 'Age', 'Fare','cabin' \n",
    "test_data['Age'].fillna(test_data['Age'].median(), inplace=True)\n",
    "test_data['Fare'].fillna(test_data['Fare'].median(), inplace=True)\n",
    "test_data['Cabin'].fillna('Unknown', inplace=True)\n"
   ]
  },
  {
   "cell_type": "code",
   "execution_count": 97,
   "id": "dcfdb710",
   "metadata": {},
   "outputs": [
    {
     "name": "stdout",
     "output_type": "stream",
     "text": [
      "\n",
      "Revision de Valores Faltantes Dentro de Conjunto de Datos de Entrenamiento Despues de su LLenado:\n",
      "PassengerId    0\n",
      "Survived       0\n",
      "Pclass         0\n",
      "Name           0\n",
      "Sex            0\n",
      "Age            0\n",
      "SibSp          0\n",
      "Parch          0\n",
      "Ticket         0\n",
      "Fare           0\n",
      "Cabin          0\n",
      "Embarked       0\n",
      "dtype: int64\n",
      "\n",
      "Revision de Valores Faltantes Dentro de Conjunto de Datos de Prueba Despues de su LLenado:\n",
      "PassengerId    0\n",
      "Pclass         0\n",
      "Name           0\n",
      "Sex            0\n",
      "Age            0\n",
      "SibSp          0\n",
      "Parch          0\n",
      "Ticket         0\n",
      "Fare           0\n",
      "Cabin          0\n",
      "Embarked       0\n",
      "dtype: int64\n"
     ]
    }
   ],
   "source": [
    "# Validacion de llenado de valores faltantes para ambos conjuntos de datos:\n",
    "\n",
    "print(\"\\nRevision de Valores Faltantes Dentro de Conjunto de Datos de Entrenamiento Despues de su LLenado:\")\n",
    "print(train_data.isnull().sum())\n",
    "print(\"\\nRevision de Valores Faltantes Dentro de Conjunto de Datos de Prueba Despues de su LLenado:\")\n",
    "print(test_data.isnull().sum())\n"
   ]
  },
  {
   "cell_type": "code",
   "execution_count": 98,
   "id": "36f781ca",
   "metadata": {},
   "outputs": [],
   "source": [
    "#Resultados de validacion fueron exitosos (0 valores faltantes para ambos conjuntos de datos)."
   ]
  },
  {
   "cell_type": "code",
   "execution_count": 99,
   "id": "313834fd",
   "metadata": {},
   "outputs": [],
   "source": [
    "#Seleccion de variables de prediccion y resultado\n",
    "features = ['Pclass', 'Sex', 'Age', 'SibSp', 'Parch', 'Fare', 'Embarked']\n",
    "X = train_data[features]\n",
    "y = train_data['Survived']\n"
   ]
  },
  {
   "cell_type": "code",
   "execution_count": 100,
   "id": "fcc59721",
   "metadata": {},
   "outputs": [
    {
     "name": "stdout",
     "output_type": "stream",
     "text": [
      "     Pclass   Age  SibSp  Parch     Fare  Sex_male  Embarked_Q  Embarked_S\n",
      "0         3  22.0      1      0   7.2500      True       False        True\n",
      "1         1  38.0      1      0  71.2833     False       False       False\n",
      "2         3  26.0      0      0   7.9250     False       False        True\n",
      "3         1  35.0      1      0  53.1000     False       False        True\n",
      "4         3  35.0      0      0   8.0500      True       False        True\n",
      "..      ...   ...    ...    ...      ...       ...         ...         ...\n",
      "886       2  27.0      0      0  13.0000      True       False        True\n",
      "887       1  19.0      0      0  30.0000     False       False        True\n",
      "888       3  28.0      1      2  23.4500     False       False        True\n",
      "889       1  26.0      0      0  30.0000      True       False       False\n",
      "890       3  32.0      0      0   7.7500      True        True       False\n",
      "\n",
      "[891 rows x 8 columns]\n"
     ]
    }
   ],
   "source": [
    "# Conversion de variables categóricas en variables dummies\n",
    "X = pd.get_dummies(X, drop_first=True)\n",
    "print(X)\n"
   ]
  },
  {
   "cell_type": "code",
   "execution_count": 101,
   "id": "9e360776",
   "metadata": {},
   "outputs": [],
   "source": [
    "# Division de los datos de entrenamiento en conjuntos de entrenamiento y validación.\n",
    "X_train, X_val, y_train, y_val = train_test_split(X, y, test_size=0.2, random_state=42)\n"
   ]
  },
  {
   "cell_type": "code",
   "execution_count": 102,
   "id": "47f080c5",
   "metadata": {},
   "outputs": [
    {
     "data": {
      "text/html": [
       "<style>#sk-container-id-4 {color: black;}#sk-container-id-4 pre{padding: 0;}#sk-container-id-4 div.sk-toggleable {background-color: white;}#sk-container-id-4 label.sk-toggleable__label {cursor: pointer;display: block;width: 100%;margin-bottom: 0;padding: 0.3em;box-sizing: border-box;text-align: center;}#sk-container-id-4 label.sk-toggleable__label-arrow:before {content: \"▸\";float: left;margin-right: 0.25em;color: #696969;}#sk-container-id-4 label.sk-toggleable__label-arrow:hover:before {color: black;}#sk-container-id-4 div.sk-estimator:hover label.sk-toggleable__label-arrow:before {color: black;}#sk-container-id-4 div.sk-toggleable__content {max-height: 0;max-width: 0;overflow: hidden;text-align: left;background-color: #f0f8ff;}#sk-container-id-4 div.sk-toggleable__content pre {margin: 0.2em;color: black;border-radius: 0.25em;background-color: #f0f8ff;}#sk-container-id-4 input.sk-toggleable__control:checked~div.sk-toggleable__content {max-height: 200px;max-width: 100%;overflow: auto;}#sk-container-id-4 input.sk-toggleable__control:checked~label.sk-toggleable__label-arrow:before {content: \"▾\";}#sk-container-id-4 div.sk-estimator input.sk-toggleable__control:checked~label.sk-toggleable__label {background-color: #d4ebff;}#sk-container-id-4 div.sk-label input.sk-toggleable__control:checked~label.sk-toggleable__label {background-color: #d4ebff;}#sk-container-id-4 input.sk-hidden--visually {border: 0;clip: rect(1px 1px 1px 1px);clip: rect(1px, 1px, 1px, 1px);height: 1px;margin: -1px;overflow: hidden;padding: 0;position: absolute;width: 1px;}#sk-container-id-4 div.sk-estimator {font-family: monospace;background-color: #f0f8ff;border: 1px dotted black;border-radius: 0.25em;box-sizing: border-box;margin-bottom: 0.5em;}#sk-container-id-4 div.sk-estimator:hover {background-color: #d4ebff;}#sk-container-id-4 div.sk-parallel-item::after {content: \"\";width: 100%;border-bottom: 1px solid gray;flex-grow: 1;}#sk-container-id-4 div.sk-label:hover label.sk-toggleable__label {background-color: #d4ebff;}#sk-container-id-4 div.sk-serial::before {content: \"\";position: absolute;border-left: 1px solid gray;box-sizing: border-box;top: 0;bottom: 0;left: 50%;z-index: 0;}#sk-container-id-4 div.sk-serial {display: flex;flex-direction: column;align-items: center;background-color: white;padding-right: 0.2em;padding-left: 0.2em;position: relative;}#sk-container-id-4 div.sk-item {position: relative;z-index: 1;}#sk-container-id-4 div.sk-parallel {display: flex;align-items: stretch;justify-content: center;background-color: white;position: relative;}#sk-container-id-4 div.sk-item::before, #sk-container-id-4 div.sk-parallel-item::before {content: \"\";position: absolute;border-left: 1px solid gray;box-sizing: border-box;top: 0;bottom: 0;left: 50%;z-index: -1;}#sk-container-id-4 div.sk-parallel-item {display: flex;flex-direction: column;z-index: 1;position: relative;background-color: white;}#sk-container-id-4 div.sk-parallel-item:first-child::after {align-self: flex-end;width: 50%;}#sk-container-id-4 div.sk-parallel-item:last-child::after {align-self: flex-start;width: 50%;}#sk-container-id-4 div.sk-parallel-item:only-child::after {width: 0;}#sk-container-id-4 div.sk-dashed-wrapped {border: 1px dashed gray;margin: 0 0.4em 0.5em 0.4em;box-sizing: border-box;padding-bottom: 0.4em;background-color: white;}#sk-container-id-4 div.sk-label label {font-family: monospace;font-weight: bold;display: inline-block;line-height: 1.2em;}#sk-container-id-4 div.sk-label-container {text-align: center;}#sk-container-id-4 div.sk-container {/* jupyter's `normalize.less` sets `[hidden] { display: none; }` but bootstrap.min.css set `[hidden] { display: none !important; }` so we also need the `!important` here to be able to override the default hidden behavior on the sphinx rendered scikit-learn.org. See: https://github.com/scikit-learn/scikit-learn/issues/21755 */display: inline-block !important;position: relative;}#sk-container-id-4 div.sk-text-repr-fallback {display: none;}</style><div id=\"sk-container-id-4\" class=\"sk-top-container\"><div class=\"sk-text-repr-fallback\"><pre>LogisticRegression(max_iter=200)</pre><b>In a Jupyter environment, please rerun this cell to show the HTML representation or trust the notebook. <br />On GitHub, the HTML representation is unable to render, please try loading this page with nbviewer.org.</b></div><div class=\"sk-container\" hidden><div class=\"sk-item\"><div class=\"sk-estimator sk-toggleable\"><input class=\"sk-toggleable__control sk-hidden--visually\" id=\"sk-estimator-id-4\" type=\"checkbox\" checked><label for=\"sk-estimator-id-4\" class=\"sk-toggleable__label sk-toggleable__label-arrow\">LogisticRegression</label><div class=\"sk-toggleable__content\"><pre>LogisticRegression(max_iter=200)</pre></div></div></div></div></div>"
      ],
      "text/plain": [
       "LogisticRegression(max_iter=200)"
      ]
     },
     "execution_count": 102,
     "metadata": {},
     "output_type": "execute_result"
    }
   ],
   "source": [
    "# c)Ajustar el primer modelo de regresión logística.\n",
    "\n",
    "# Inicializacion y entrenamiento del modelo de regresión logística.\n",
    "model = LogisticRegression(max_iter=200)\n",
    "model.fit(X_train, y_train)\n"
   ]
  },
  {
   "cell_type": "code",
   "execution_count": 103,
   "id": "418774c2",
   "metadata": {},
   "outputs": [],
   "source": [
    "# d)Entrenar y determinar el nivel de accuracy del primer modelo."
   ]
  },
  {
   "cell_type": "code",
   "execution_count": 104,
   "id": "13f39582",
   "metadata": {},
   "outputs": [],
   "source": [
    "# Prediccion con el conjunto de validación\n",
    "y_pred = model.predict(X_val)\n"
   ]
  },
  {
   "cell_type": "code",
   "execution_count": 105,
   "id": "8082255b",
   "metadata": {},
   "outputs": [
    {
     "name": "stdout",
     "output_type": "stream",
     "text": [
      "Model Accuracy: 0.81\n"
     ]
    }
   ],
   "source": [
    "# Calculo de la precisión del modelo\n",
    "accuracy = accuracy_score(y_val, y_pred)\n",
    "print(f\"Model Accuracy: {accuracy:.2f}\")\n"
   ]
  },
  {
   "cell_type": "code",
   "execution_count": 83,
   "id": "f5f4cf1d",
   "metadata": {},
   "outputs": [],
   "source": [
    "#Thank You!"
   ]
  }
 ],
 "metadata": {
  "kernelspec": {
   "display_name": "Python 3 (ipykernel)",
   "language": "python",
   "name": "python3"
  },
  "language_info": {
   "codemirror_mode": {
    "name": "ipython",
    "version": 3
   },
   "file_extension": ".py",
   "mimetype": "text/x-python",
   "name": "python",
   "nbconvert_exporter": "python",
   "pygments_lexer": "ipython3",
   "version": "3.11.4"
  }
 },
 "nbformat": 4,
 "nbformat_minor": 5
}
